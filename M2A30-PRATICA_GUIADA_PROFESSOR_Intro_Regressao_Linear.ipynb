{
 "cells": [
  {
   "cell_type": "markdown",
   "metadata": {
    "colab_type": "text",
    "id": "Pvqug1qJ2BEX"
   },
   "source": [
    "# PRÁTICA GUIADA: Introdução à Regressão Linear."
   ]
  },
  {
   "cell_type": "markdown",
   "metadata": {
    "colab_type": "text",
    "id": "iW0HAGOy2BEa"
   },
   "source": [
    "## 1. Introdução\n",
    "\n",
    "1.Introdução ao conjunto de dados \"bikeshare.csv\" \n",
    "\n",
    "* Leitura dos dados\n",
    "* Visualização dos dados\n",
    "\n",
    "2.Regressão linear\n",
    "* Forma de regressão linear\n",
    "* Construção do modelo de regressão linear\n",
    "* Uso do modelo para previsão\n",
    "* É importante a escala das features?\n",
    "\n",
    "3.Trabalho com múltiplas features\n",
    "* Visualização dos dados (parte 2)\n",
    "* Acrescentamento de features ao modelo\n",
    "\n",
    "4.Escolha entre modelos\n",
    "* Seleção de features\n",
    "* Métricas de avaliação para problemas de regressão\n",
    "* Comparação de modelos com sets de treinamento/teste e RMSE\n",
    "* Comparação de RMSE de teste com RMSE nulo (baseline)\n",
    "       \n",
    "5.Criação de features\n",
    "* Gestão de features categóricas\n",
    "* Engenharia de features\n",
    "\n",
    "EXERCÍCIOS\n",
    "    \n",
    "6. Comparação da regressão linear com outros modelos"
   ]
  },
  {
   "cell_type": "markdown",
   "metadata": {
    "colab_type": "text",
    "id": "tr90w_HX2BEb"
   },
   "source": [
    "**===========================================================================================**\n",
    "\n",
    "### 1.1 Importação de dados\n",
    "\n",
    "Vamos trabalhar com um conjunto de dados sobre aluguéis de bicicletas que foi utilizado em um concurso de Kaggle\n",
    "\n",
    "\n",
    "São fornecidos dados sobre aluguéis por hora que abrangem dois anos. O conjunto de treinamento abrange os primeiros 19 dias de cada mês e o conjunto de teste vai do dia 20 até o fim do mês. **_Queremos projetar o número total de bicicletas alugadas durante cada hora coberta pelo conjunto do teste, utilizando apenas as informações disponíveis no teste de treinamento._**\n"
   ]
  },
  {
   "cell_type": "markdown",
   "metadata": {
    "colab_type": "text",
    "id": "V7wEvxFd2BEb"
   },
   "source": [
    "**CAMPOS DO SET**\n",
    "\n",
    "**datetime** - hourly date + timestamp\n",
    "\n",
    "**season** - 1 = spring, 2 = summer, 3 = fall, 4 = winter\n",
    "\n",
    "**holiday** - whether the day is considered a holiday\n",
    "\n",
    "**workingday** - whether the day is neither a weekend nor holiday\n",
    "\n",
    "**weather** - \n",
    "\n",
    "1: Clear, Few clouds, Partly cloudy, Partly cloudy <br/>\n",
    "2: Mist + Cloudy, Mist + Broken clouds, Mist + Few clouds, Mist <br/>\n",
    "3: Light Snow, Light Rain + Thunderstorm + Scattered clouds,Light Rain + Scattered clouds <br/>\n",
    "4: Heavy Rain + Ice Pallets + Thunderstorm + Mist, Snow + Fog <br/>\n",
    "**temp** - temperature in Celsius\n",
    "\n",
    "**atemp** - \"feels like\" temperature in Celsius\n",
    "\n",
    "**humidity** - relative humidity\n",
    "\n",
    "**windspeed** - wind speed\n",
    "\n",
    "**casual** - number of non-registered user rentals initiated\n",
    "\n",
    "**registered** - number of registered user rentals initiated\n",
    "\n",
    "**count** - number of total rentals\n"
   ]
  },
  {
   "cell_type": "markdown",
   "metadata": {},
   "source": [
    "#### Vamos começar importando a biblioteca Pandas e lendo o arquivo `'bikeshare.csv'` com a função [`.read_csv`](https://pandas.pydata.org/pandas-docs/stable/reference/api/pandas.read_csv.html), observando os parâmetros `index_col = 'datetime'` para usarmos a coluna `'datetime'` como índice do dataframe  e `parse_dates = True` para a análise dos índices."
   ]
  },
  {
   "cell_type": "code",
   "execution_count": 4,
   "metadata": {},
   "outputs": [],
   "source": [
    "# Lemos os dados e configuramos o datetime como índice.\n",
    "import pandas as pd\n",
    "\n",
    "bikes = pd.read_csv('bikeshare.csv', \n",
    "                    index_col = 'datetime', \n",
    "                    parse_dates = True)"
   ]
  },
  {
   "cell_type": "markdown",
   "metadata": {
    "colab": {
     "autoexec": {
      "startup": false,
      "wait_interval": 0
     }
    },
    "colab_type": "code",
    "id": "640yzdJ92BEd"
   },
   "source": [
    "####  <span style = \"color:red\">Código Original.</span>\n",
    "<!---\n",
    "# Lemos os dados e configuramos o datetime como índice.\n",
    "import pandas as pd\n",
    "\n",
    "bikes = pd.read_csv('bikeshare.csv', \n",
    "                    index_col = 'datetime', \n",
    "                    parse_dates = True)\n",
    "-->"
   ]
  },
  {
   "cell_type": "markdown",
   "metadata": {},
   "source": [
    "#### Vamos observar as primeiras linhas dez linahs do dataframe `bikes`. "
   ]
  },
  {
   "cell_type": "code",
   "execution_count": 5,
   "metadata": {},
   "outputs": [
    {
     "data": {
      "text/html": [
       "<div>\n",
       "<style scoped>\n",
       "    .dataframe tbody tr th:only-of-type {\n",
       "        vertical-align: middle;\n",
       "    }\n",
       "\n",
       "    .dataframe tbody tr th {\n",
       "        vertical-align: top;\n",
       "    }\n",
       "\n",
       "    .dataframe thead th {\n",
       "        text-align: right;\n",
       "    }\n",
       "</style>\n",
       "<table border=\"1\" class=\"dataframe\">\n",
       "  <thead>\n",
       "    <tr style=\"text-align: right;\">\n",
       "      <th></th>\n",
       "      <th>season</th>\n",
       "      <th>holiday</th>\n",
       "      <th>workingday</th>\n",
       "      <th>weather</th>\n",
       "      <th>temp</th>\n",
       "      <th>atemp</th>\n",
       "      <th>humidity</th>\n",
       "      <th>windspeed</th>\n",
       "      <th>casual</th>\n",
       "      <th>registered</th>\n",
       "      <th>count</th>\n",
       "    </tr>\n",
       "    <tr>\n",
       "      <th>datetime</th>\n",
       "      <th></th>\n",
       "      <th></th>\n",
       "      <th></th>\n",
       "      <th></th>\n",
       "      <th></th>\n",
       "      <th></th>\n",
       "      <th></th>\n",
       "      <th></th>\n",
       "      <th></th>\n",
       "      <th></th>\n",
       "      <th></th>\n",
       "    </tr>\n",
       "  </thead>\n",
       "  <tbody>\n",
       "    <tr>\n",
       "      <th>2011-01-01 00:00:00</th>\n",
       "      <td>1</td>\n",
       "      <td>0</td>\n",
       "      <td>0</td>\n",
       "      <td>1</td>\n",
       "      <td>9.84</td>\n",
       "      <td>14.395</td>\n",
       "      <td>81</td>\n",
       "      <td>0.0000</td>\n",
       "      <td>3</td>\n",
       "      <td>13</td>\n",
       "      <td>16</td>\n",
       "    </tr>\n",
       "    <tr>\n",
       "      <th>2011-01-01 01:00:00</th>\n",
       "      <td>1</td>\n",
       "      <td>0</td>\n",
       "      <td>0</td>\n",
       "      <td>1</td>\n",
       "      <td>9.02</td>\n",
       "      <td>13.635</td>\n",
       "      <td>80</td>\n",
       "      <td>0.0000</td>\n",
       "      <td>8</td>\n",
       "      <td>32</td>\n",
       "      <td>40</td>\n",
       "    </tr>\n",
       "    <tr>\n",
       "      <th>2011-01-01 02:00:00</th>\n",
       "      <td>1</td>\n",
       "      <td>0</td>\n",
       "      <td>0</td>\n",
       "      <td>1</td>\n",
       "      <td>9.02</td>\n",
       "      <td>13.635</td>\n",
       "      <td>80</td>\n",
       "      <td>0.0000</td>\n",
       "      <td>5</td>\n",
       "      <td>27</td>\n",
       "      <td>32</td>\n",
       "    </tr>\n",
       "    <tr>\n",
       "      <th>2011-01-01 03:00:00</th>\n",
       "      <td>1</td>\n",
       "      <td>0</td>\n",
       "      <td>0</td>\n",
       "      <td>1</td>\n",
       "      <td>9.84</td>\n",
       "      <td>14.395</td>\n",
       "      <td>75</td>\n",
       "      <td>0.0000</td>\n",
       "      <td>3</td>\n",
       "      <td>10</td>\n",
       "      <td>13</td>\n",
       "    </tr>\n",
       "    <tr>\n",
       "      <th>2011-01-01 04:00:00</th>\n",
       "      <td>1</td>\n",
       "      <td>0</td>\n",
       "      <td>0</td>\n",
       "      <td>1</td>\n",
       "      <td>9.84</td>\n",
       "      <td>14.395</td>\n",
       "      <td>75</td>\n",
       "      <td>0.0000</td>\n",
       "      <td>0</td>\n",
       "      <td>1</td>\n",
       "      <td>1</td>\n",
       "    </tr>\n",
       "    <tr>\n",
       "      <th>2011-01-01 05:00:00</th>\n",
       "      <td>1</td>\n",
       "      <td>0</td>\n",
       "      <td>0</td>\n",
       "      <td>2</td>\n",
       "      <td>9.84</td>\n",
       "      <td>12.880</td>\n",
       "      <td>75</td>\n",
       "      <td>6.0032</td>\n",
       "      <td>0</td>\n",
       "      <td>1</td>\n",
       "      <td>1</td>\n",
       "    </tr>\n",
       "    <tr>\n",
       "      <th>2011-01-01 06:00:00</th>\n",
       "      <td>1</td>\n",
       "      <td>0</td>\n",
       "      <td>0</td>\n",
       "      <td>1</td>\n",
       "      <td>9.02</td>\n",
       "      <td>13.635</td>\n",
       "      <td>80</td>\n",
       "      <td>0.0000</td>\n",
       "      <td>2</td>\n",
       "      <td>0</td>\n",
       "      <td>2</td>\n",
       "    </tr>\n",
       "    <tr>\n",
       "      <th>2011-01-01 07:00:00</th>\n",
       "      <td>1</td>\n",
       "      <td>0</td>\n",
       "      <td>0</td>\n",
       "      <td>1</td>\n",
       "      <td>8.20</td>\n",
       "      <td>12.880</td>\n",
       "      <td>86</td>\n",
       "      <td>0.0000</td>\n",
       "      <td>1</td>\n",
       "      <td>2</td>\n",
       "      <td>3</td>\n",
       "    </tr>\n",
       "    <tr>\n",
       "      <th>2011-01-01 08:00:00</th>\n",
       "      <td>1</td>\n",
       "      <td>0</td>\n",
       "      <td>0</td>\n",
       "      <td>1</td>\n",
       "      <td>9.84</td>\n",
       "      <td>14.395</td>\n",
       "      <td>75</td>\n",
       "      <td>0.0000</td>\n",
       "      <td>1</td>\n",
       "      <td>7</td>\n",
       "      <td>8</td>\n",
       "    </tr>\n",
       "    <tr>\n",
       "      <th>2011-01-01 09:00:00</th>\n",
       "      <td>1</td>\n",
       "      <td>0</td>\n",
       "      <td>0</td>\n",
       "      <td>1</td>\n",
       "      <td>13.12</td>\n",
       "      <td>17.425</td>\n",
       "      <td>76</td>\n",
       "      <td>0.0000</td>\n",
       "      <td>8</td>\n",
       "      <td>6</td>\n",
       "      <td>14</td>\n",
       "    </tr>\n",
       "  </tbody>\n",
       "</table>\n",
       "</div>"
      ],
      "text/plain": [
       "                     season  holiday  workingday  weather   temp   atemp  \\\n",
       "datetime                                                                   \n",
       "2011-01-01 00:00:00       1        0           0        1   9.84  14.395   \n",
       "2011-01-01 01:00:00       1        0           0        1   9.02  13.635   \n",
       "2011-01-01 02:00:00       1        0           0        1   9.02  13.635   \n",
       "2011-01-01 03:00:00       1        0           0        1   9.84  14.395   \n",
       "2011-01-01 04:00:00       1        0           0        1   9.84  14.395   \n",
       "2011-01-01 05:00:00       1        0           0        2   9.84  12.880   \n",
       "2011-01-01 06:00:00       1        0           0        1   9.02  13.635   \n",
       "2011-01-01 07:00:00       1        0           0        1   8.20  12.880   \n",
       "2011-01-01 08:00:00       1        0           0        1   9.84  14.395   \n",
       "2011-01-01 09:00:00       1        0           0        1  13.12  17.425   \n",
       "\n",
       "                     humidity  windspeed  casual  registered  count  \n",
       "datetime                                                             \n",
       "2011-01-01 00:00:00        81     0.0000       3          13     16  \n",
       "2011-01-01 01:00:00        80     0.0000       8          32     40  \n",
       "2011-01-01 02:00:00        80     0.0000       5          27     32  \n",
       "2011-01-01 03:00:00        75     0.0000       3          10     13  \n",
       "2011-01-01 04:00:00        75     0.0000       0           1      1  \n",
       "2011-01-01 05:00:00        75     6.0032       0           1      1  \n",
       "2011-01-01 06:00:00        80     0.0000       2           0      2  \n",
       "2011-01-01 07:00:00        86     0.0000       1           2      3  \n",
       "2011-01-01 08:00:00        75     0.0000       1           7      8  \n",
       "2011-01-01 09:00:00        76     0.0000       8           6     14  "
      ]
     },
     "execution_count": 5,
     "metadata": {},
     "output_type": "execute_result"
    }
   ],
   "source": [
    "bikes.head(10)"
   ]
  },
  {
   "cell_type": "markdown",
   "metadata": {
    "colab": {
     "autoexec": {
      "startup": false,
      "wait_interval": 0
     }
    },
    "colab_type": "code",
    "id": "WoOC2o7H2BEi"
   },
   "source": [
    "####  <span style = \"color:red\">Código Original.</span>\n",
    "<!---\n",
    "bikes.head(10)\n",
    "-->"
   ]
  },
  {
   "cell_type": "markdown",
   "metadata": {
    "colab_type": "text",
    "id": "Ewjry8Nz2BEm"
   },
   "source": [
    "**Perguntas:**\n",
    "\n",
    "* O que cada observação representa?\n",
    "* Qual a variável de resposta (conforme definido por Kaggle)?\n",
    "* Quantas variáveis há?"
   ]
  },
  {
   "cell_type": "markdown",
   "metadata": {},
   "source": [
    "#### Vamos renomear a coluna `'count'` com o nome `'total'` e checar novamente as dez primeiras linhas, observe o parâmetro  `inplace = True`, para gravar a modificação."
   ]
  },
  {
   "cell_type": "code",
   "execution_count": 6,
   "metadata": {},
   "outputs": [
    {
     "data": {
      "text/html": [
       "<div>\n",
       "<style scoped>\n",
       "    .dataframe tbody tr th:only-of-type {\n",
       "        vertical-align: middle;\n",
       "    }\n",
       "\n",
       "    .dataframe tbody tr th {\n",
       "        vertical-align: top;\n",
       "    }\n",
       "\n",
       "    .dataframe thead th {\n",
       "        text-align: right;\n",
       "    }\n",
       "</style>\n",
       "<table border=\"1\" class=\"dataframe\">\n",
       "  <thead>\n",
       "    <tr style=\"text-align: right;\">\n",
       "      <th></th>\n",
       "      <th>season</th>\n",
       "      <th>holiday</th>\n",
       "      <th>workingday</th>\n",
       "      <th>weather</th>\n",
       "      <th>temp</th>\n",
       "      <th>atemp</th>\n",
       "      <th>humidity</th>\n",
       "      <th>windspeed</th>\n",
       "      <th>casual</th>\n",
       "      <th>registered</th>\n",
       "      <th>total</th>\n",
       "    </tr>\n",
       "    <tr>\n",
       "      <th>datetime</th>\n",
       "      <th></th>\n",
       "      <th></th>\n",
       "      <th></th>\n",
       "      <th></th>\n",
       "      <th></th>\n",
       "      <th></th>\n",
       "      <th></th>\n",
       "      <th></th>\n",
       "      <th></th>\n",
       "      <th></th>\n",
       "      <th></th>\n",
       "    </tr>\n",
       "  </thead>\n",
       "  <tbody>\n",
       "    <tr>\n",
       "      <th>2011-01-01 00:00:00</th>\n",
       "      <td>1</td>\n",
       "      <td>0</td>\n",
       "      <td>0</td>\n",
       "      <td>1</td>\n",
       "      <td>9.84</td>\n",
       "      <td>14.395</td>\n",
       "      <td>81</td>\n",
       "      <td>0.0000</td>\n",
       "      <td>3</td>\n",
       "      <td>13</td>\n",
       "      <td>16</td>\n",
       "    </tr>\n",
       "    <tr>\n",
       "      <th>2011-01-01 01:00:00</th>\n",
       "      <td>1</td>\n",
       "      <td>0</td>\n",
       "      <td>0</td>\n",
       "      <td>1</td>\n",
       "      <td>9.02</td>\n",
       "      <td>13.635</td>\n",
       "      <td>80</td>\n",
       "      <td>0.0000</td>\n",
       "      <td>8</td>\n",
       "      <td>32</td>\n",
       "      <td>40</td>\n",
       "    </tr>\n",
       "    <tr>\n",
       "      <th>2011-01-01 02:00:00</th>\n",
       "      <td>1</td>\n",
       "      <td>0</td>\n",
       "      <td>0</td>\n",
       "      <td>1</td>\n",
       "      <td>9.02</td>\n",
       "      <td>13.635</td>\n",
       "      <td>80</td>\n",
       "      <td>0.0000</td>\n",
       "      <td>5</td>\n",
       "      <td>27</td>\n",
       "      <td>32</td>\n",
       "    </tr>\n",
       "    <tr>\n",
       "      <th>2011-01-01 03:00:00</th>\n",
       "      <td>1</td>\n",
       "      <td>0</td>\n",
       "      <td>0</td>\n",
       "      <td>1</td>\n",
       "      <td>9.84</td>\n",
       "      <td>14.395</td>\n",
       "      <td>75</td>\n",
       "      <td>0.0000</td>\n",
       "      <td>3</td>\n",
       "      <td>10</td>\n",
       "      <td>13</td>\n",
       "    </tr>\n",
       "    <tr>\n",
       "      <th>2011-01-01 04:00:00</th>\n",
       "      <td>1</td>\n",
       "      <td>0</td>\n",
       "      <td>0</td>\n",
       "      <td>1</td>\n",
       "      <td>9.84</td>\n",
       "      <td>14.395</td>\n",
       "      <td>75</td>\n",
       "      <td>0.0000</td>\n",
       "      <td>0</td>\n",
       "      <td>1</td>\n",
       "      <td>1</td>\n",
       "    </tr>\n",
       "    <tr>\n",
       "      <th>2011-01-01 05:00:00</th>\n",
       "      <td>1</td>\n",
       "      <td>0</td>\n",
       "      <td>0</td>\n",
       "      <td>2</td>\n",
       "      <td>9.84</td>\n",
       "      <td>12.880</td>\n",
       "      <td>75</td>\n",
       "      <td>6.0032</td>\n",
       "      <td>0</td>\n",
       "      <td>1</td>\n",
       "      <td>1</td>\n",
       "    </tr>\n",
       "    <tr>\n",
       "      <th>2011-01-01 06:00:00</th>\n",
       "      <td>1</td>\n",
       "      <td>0</td>\n",
       "      <td>0</td>\n",
       "      <td>1</td>\n",
       "      <td>9.02</td>\n",
       "      <td>13.635</td>\n",
       "      <td>80</td>\n",
       "      <td>0.0000</td>\n",
       "      <td>2</td>\n",
       "      <td>0</td>\n",
       "      <td>2</td>\n",
       "    </tr>\n",
       "    <tr>\n",
       "      <th>2011-01-01 07:00:00</th>\n",
       "      <td>1</td>\n",
       "      <td>0</td>\n",
       "      <td>0</td>\n",
       "      <td>1</td>\n",
       "      <td>8.20</td>\n",
       "      <td>12.880</td>\n",
       "      <td>86</td>\n",
       "      <td>0.0000</td>\n",
       "      <td>1</td>\n",
       "      <td>2</td>\n",
       "      <td>3</td>\n",
       "    </tr>\n",
       "    <tr>\n",
       "      <th>2011-01-01 08:00:00</th>\n",
       "      <td>1</td>\n",
       "      <td>0</td>\n",
       "      <td>0</td>\n",
       "      <td>1</td>\n",
       "      <td>9.84</td>\n",
       "      <td>14.395</td>\n",
       "      <td>75</td>\n",
       "      <td>0.0000</td>\n",
       "      <td>1</td>\n",
       "      <td>7</td>\n",
       "      <td>8</td>\n",
       "    </tr>\n",
       "    <tr>\n",
       "      <th>2011-01-01 09:00:00</th>\n",
       "      <td>1</td>\n",
       "      <td>0</td>\n",
       "      <td>0</td>\n",
       "      <td>1</td>\n",
       "      <td>13.12</td>\n",
       "      <td>17.425</td>\n",
       "      <td>76</td>\n",
       "      <td>0.0000</td>\n",
       "      <td>8</td>\n",
       "      <td>6</td>\n",
       "      <td>14</td>\n",
       "    </tr>\n",
       "  </tbody>\n",
       "</table>\n",
       "</div>"
      ],
      "text/plain": [
       "                     season  holiday  workingday  weather   temp   atemp  \\\n",
       "datetime                                                                   \n",
       "2011-01-01 00:00:00       1        0           0        1   9.84  14.395   \n",
       "2011-01-01 01:00:00       1        0           0        1   9.02  13.635   \n",
       "2011-01-01 02:00:00       1        0           0        1   9.02  13.635   \n",
       "2011-01-01 03:00:00       1        0           0        1   9.84  14.395   \n",
       "2011-01-01 04:00:00       1        0           0        1   9.84  14.395   \n",
       "2011-01-01 05:00:00       1        0           0        2   9.84  12.880   \n",
       "2011-01-01 06:00:00       1        0           0        1   9.02  13.635   \n",
       "2011-01-01 07:00:00       1        0           0        1   8.20  12.880   \n",
       "2011-01-01 08:00:00       1        0           0        1   9.84  14.395   \n",
       "2011-01-01 09:00:00       1        0           0        1  13.12  17.425   \n",
       "\n",
       "                     humidity  windspeed  casual  registered  total  \n",
       "datetime                                                             \n",
       "2011-01-01 00:00:00        81     0.0000       3          13     16  \n",
       "2011-01-01 01:00:00        80     0.0000       8          32     40  \n",
       "2011-01-01 02:00:00        80     0.0000       5          27     32  \n",
       "2011-01-01 03:00:00        75     0.0000       3          10     13  \n",
       "2011-01-01 04:00:00        75     0.0000       0           1      1  \n",
       "2011-01-01 05:00:00        75     6.0032       0           1      1  \n",
       "2011-01-01 06:00:00        80     0.0000       2           0      2  \n",
       "2011-01-01 07:00:00        86     0.0000       1           2      3  \n",
       "2011-01-01 08:00:00        75     0.0000       1           7      8  \n",
       "2011-01-01 09:00:00        76     0.0000       8           6     14  "
      ]
     },
     "execution_count": 6,
     "metadata": {},
     "output_type": "execute_result"
    }
   ],
   "source": [
    "# Precisamente “count” é um método de Pandas, portanto convém renomear a coluna\n",
    "bikes.rename(columns = {'count':'total'}, inplace = True)\n",
    "bikes.head(10)"
   ]
  },
  {
   "cell_type": "markdown",
   "metadata": {
    "colab": {
     "autoexec": {
      "startup": false,
      "wait_interval": 0
     }
    },
    "colab_type": "code",
    "id": "cSmpMQCl2BEn"
   },
   "source": [
    "####  <span style = \"color:red\">Código Original.</span>\n",
    "<!---\n",
    "# Precisamente “count” é um método de Pandas, portanto convém renomear a coluna\n",
    "bikes.rename(columns = {'count':'total'}, inplace = True)\n",
    "bikes.head(10)\n",
    "-->"
   ]
  },
  {
   "cell_type": "markdown",
   "metadata": {
    "colab_type": "text",
    "id": "egyrHPtH2BEr"
   },
   "source": [
    "### 1.2 Visualização"
   ]
  },
  {
   "cell_type": "markdown",
   "metadata": {},
   "source": [
    "#### Uma vez executadas as primeiras alterações, vamos visualizar a relação entre alguns atributos, comecemos por importar as bibliotecas [`seaborn`](https://seaborn.pydata.org/) e [`matplotlib.pyplot`](https://matplotlib.org/3.1.1/api/_as_gen/matplotlib.pyplot.html). Vamos definir alguns parâmetros globais para o 'matplotlib', como [plt.rcParams](https://matplotlib.org/tutorials/introductory/customizing.html#matplotlib-rcparams), podemos fazer `['figure.figsize'] = (8, 6)` e `['font.size'] = 14`. \n",
    "\n",
    "#### Não esqueça de definir a [função mágica](https://ipython.readthedocs.io/en/stable/interactive/tutorial.html#magics-explained) [`%matplotlib inline`](https://ipython.readthedocs.io/en/stable/interactive/plotting.html) para a geração de plots abaixo das células que os geram."
   ]
  },
  {
   "cell_type": "code",
   "execution_count": 7,
   "metadata": {},
   "outputs": [],
   "source": [
    "import seaborn as sns\n",
    "import matplotlib.pyplot as plt\n",
    "%matplotlib inline\n",
    "\n",
    "# Definimos parâmetros globais para matplotlib.\n",
    "plt.rcParams['figure.figsize'] = (8, 6)\n",
    "plt.rcParams['font.size'] = 14"
   ]
  },
  {
   "cell_type": "markdown",
   "metadata": {
    "colab": {
     "autoexec": {
      "startup": false,
      "wait_interval": 0
     }
    },
    "colab_type": "code",
    "id": "3vxRrqIS2BEs"
   },
   "source": [
    "####  <span style = \"color:red\">Código Original.</span>\n",
    "<!---\n",
    "import seaborn as sns\n",
    "import matplotlib.pyplot as plt\n",
    "%matplotlib inline\n",
    "\n",
    "# Definimos parâmetros globais para matplotlib.\n",
    "plt.rcParams['figure.figsize'] = (8, 6)\n",
    "plt.rcParams['font.size'] = 14\n",
    "-->"
   ]
  },
  {
   "cell_type": "markdown",
   "metadata": {},
   "source": [
    "#### Podemos agora plotar o dataset `bikes` com o auxílio da função [´.plot´](https://pandas.pydata.org/pandas-docs/version/0.23.4/generated/pandas.DataFrame.plot.html). Observe o conjunto de parâmetros `kind = 'scatter'`, para uma dispersão enrtre as variáveis `x = 'temp'` e `y = 'total'`, considerando  `alpha = 0.2` para definir a transparência dos pontos."
   ]
  },
  {
   "cell_type": "code",
   "execution_count": 8,
   "metadata": {},
   "outputs": [
    {
     "data": {
      "image/png": "[encoded data removed]",
      "text/plain": [
       "<Figure size 576x432 with 1 Axes>"
      ]
     },
     "metadata": {
      "needs_background": "light"
     },
     "output_type": "display_data"
    }
   ],
   "source": [
    "# Plotamos pontos com Pandas\n",
    "bikes.plot(kind = 'scatter', \n",
    "           x = 'temp', \n",
    "           y = 'total', \n",
    "           alpha = 0.2\n",
    "          );"
   ]
  },
  {
   "cell_type": "markdown",
   "metadata": {
    "colab": {
     "autoexec": {
      "startup": false,
      "wait_interval": 0
     }
    },
    "colab_type": "code",
    "id": "pDX1SEg22BEw"
   },
   "source": [
    "####  <span style = \"color:red\">Código Original.</span>\n",
    "<!---\n",
    "# Plotamos pontos com Pandas\n",
    "bikes.plot(kind = 'scatter', \n",
    "           x = 'temp', \n",
    "           y = 'total', \n",
    "           alpha = 0.2\n",
    "          );\n",
    "-->"
   ]
  },
  {
   "cell_type": "markdown",
   "metadata": {},
   "source": [
    "#### Vamos repetir o gráfico anterior, porém agora aplicando uma regressão implícita, usando o método [`.lmplot()`](https://seaborn.pydata.org/generated/seaborn.lmplot.html). Observe os parâmetros \n",
    "\n",
    "#### Para os atributos `x = 'temp'` e `y = 'total'`, do conjunto de dados `data = bikes`, com proporção da eixos `aspect = 1.41` e transparência de pontos `scatter_kws = {'alpha': 0.2}`."
   ]
  },
  {
   "cell_type": "code",
   "execution_count": 9,
   "metadata": {},
   "outputs": [
    {
     "data": {
      "image/png": "[encoded data removed]",
      "text/plain": [
       "<Figure size 507.6x360 with 1 Axes>"
      ]
     },
     "metadata": {
      "needs_background": "light"
     },
     "output_type": "display_data"
    }
   ],
   "source": [
    "sns.lmplot(x = 'temp', \n",
    "           y = 'total', \n",
    "           data = bikes, \n",
    "           aspect = 1.41, \n",
    "           scatter_kws = {'alpha': 0.2}\n",
    "          );"
   ]
  },
  {
   "cell_type": "markdown",
   "metadata": {},
   "source": [
    "####  <span style = \"color:red\">Código Original.</span>\n",
    "<!---\n",
    "# Ajuste com Seaborn (modelo linear) \n",
    "sns.lmplot(x = 'temp', \n",
    "           y = 'total', \n",
    "           data = bikes, \n",
    "           aspect = 1.41, \n",
    "           scatter_kws = {'alpha': 0.2}\n",
    "          );\n",
    "--> "
   ]
  },
  {
   "cell_type": "markdown",
   "metadata": {
    "colab_type": "text",
    "id": "IWACE8sc2BE4"
   },
   "source": [
    "## 2. Revisão: forma do modelo linear\n",
    "\n",
    "A seguir temos uma relação entre uma variávei dependente 'y' e múltimas variáveis independentes '$x_{i}$', multiplicando os coeficientes angulares $\\beta_{i}$ somados ao coeficiente linear $\\beta_{0}$, que intercepta o eixo $y_{x=0}$. \n",
    "\n",
    "$y = \\beta_0 + \\beta_1x_1 + \\beta_2x_2 + ... + \\beta_nx_n$\n",
    "- $y$ é a variável dependente (a resposta)\n",
    "- $\\beta_0$ é o termo de intercepção\n",
    "- $\\beta_1$ é o coeficiente para $x_1$ \n",
    "- $\\beta_n$ é o coeficiente para $x_n$\n",
    "\n",
    "![Estimativa de coeficientes coefficients](multiple_linear.png)\n",
    "\n",
    "\n",
    "#### Os **$\\beta$** são os chamados **_Coeficientes do modelo_**\n",
    "\n",
    "- Esses valores são estimados (ou \"aprendidos\") no processo de adaptação do modelo utilizando o critério ** mínimos quadrados **.\n",
    "- Especificamente, encontramos a linha (matematicamente) que minimiza a adição ** de quadrados de resíduos ** (ou “total de erros quadráticos”).\n",
    "- E quando já tivermos aprendido esses coeficientes, podemos usar o modelo para prever a resposta.\n",
    "\n",
    "\n",
    "![Estimativa de coeficientes coefficients](linearReg.png)\n",
    "\n",
    "\n",
    "#### No diagrama anterior:\n",
    "\n",
    "- Os pontos azuis são os ** valores observados ** de x e y.\n",
    "- A linha vermelha é nossa ** linha de mínimos quadrados **.\n",
    "- As linhas tracejadas azuis são os ** resíduos **, que são as distâncias verticais entre os valores observados y a linha de mínimos quadrados."
   ]
  },
  {
   "cell_type": "markdown",
   "metadata": {
    "colab_type": "text",
    "id": "LqjqnR3R2BE5"
   },
   "source": [
    "## 3. Construção do modelo de regressão linear"
   ]
  },
  {
   "cell_type": "markdown",
   "metadata": {},
   "source": [
    "#### Vamos começar a modelar nossos dados com o atributo `'temp'` de nosso dataframe `bikes`. Vamos criar um objeto `X` para receber a coluna `bikes['temp']` e um objeto `y` para receber a coluna `bikes['total']`."
   ]
  },
  {
   "cell_type": "code",
   "execution_count": 10,
   "metadata": {},
   "outputs": [],
   "source": [
    "# Criamos X e y\n",
    "feature_cols = ['temp']\n",
    "X = bikes[feature_cols]\n",
    "y = bikes['total']\n",
    "#print(X)\n",
    "#print(y)"
   ]
  },
  {
   "cell_type": "markdown",
   "metadata": {
    "colab": {
     "autoexec": {
      "startup": false,
      "wait_interval": 0
     }
    },
    "colab_type": "code",
    "id": "XAOWVSwX2BE6"
   },
   "source": [
    "####  <span style = \"color:red\">Código Original.</span>\n",
    "<!---\n",
    "# Criamos X e y\n",
    "feature_cols = ['temp']\n",
    "X = bikes[feature_cols]\n",
    "y = bikes['total']\n",
    "print(X)\n",
    "print(y)\n",
    "-->"
   ]
  },
  {
   "cell_type": "markdown",
   "metadata": {},
   "source": [
    "#### Agora importamos a biblioteca [`sklearn.linear_model.LinearRegression`](https://scikit-learn.org/stable/modules/generated/sklearn.linear_model.LinearRegression.html). Vamos também instanciar um objeto chamado `linreg` para receber o modelo de regressão linear que vamos aplicar com a função [`LinearRegression()`](https://scikit-learn.org/stable/modules/generated/sklearn.linear_model.LinearRegression.html).\n",
    "\n",
    "#### Assim que o modelo é instanciado já é possível submetê-lo ao ajuste, com o auxílio da função [`.fit()`](https://scikit-learn.org/stable/modules/generated/sklearn.linear_model.LinearRegression.html#sklearn.linear_model.LinearRegression.fit) para os pares `(X, y)`."
   ]
  },
  {
   "cell_type": "code",
   "execution_count": 11,
   "metadata": {},
   "outputs": [
    {
     "data": {
      "text/plain": [
       "LinearRegression(copy_X=True, fit_intercept=True, n_jobs=None, normalize=False)"
      ]
     },
     "execution_count": 11,
     "metadata": {},
     "output_type": "execute_result"
    }
   ],
   "source": [
    "from sklearn.linear_model import LinearRegression\n",
    "linreg = LinearRegression()\n",
    "linreg.fit(X, y)"
   ]
  },
  {
   "cell_type": "markdown",
   "metadata": {
    "colab": {
     "autoexec": {
      "startup": false,
      "wait_interval": 0
     }
    },
    "colab_type": "code",
    "id": "cXFL77iB2BE_"
   },
   "source": [
    "####  <span style = \"color:red\">Código Original.</span>\n",
    "<!---\n",
    "from sklearn.linear_model import LinearRegression\n",
    "linreg = LinearRegression()\n",
    "linreg.fit(X, y)\n",
    "-->"
   ]
  },
  {
   "cell_type": "markdown",
   "metadata": {},
   "source": [
    "#### Podemos imprimir os coeficientes angulares [`.coef_`](https://scikit-learn.org/stable/modules/linear_model.html) e linear [`.intercept_`](https://scikit-learn.org/stable/modules/linear_model.html)."
   ]
  },
  {
   "cell_type": "code",
   "execution_count": 12,
   "metadata": {},
   "outputs": [
    {
     "name": "stdout",
     "output_type": "stream",
     "text": [
      "6.046212959616781\n",
      "[9.17054048]\n"
     ]
    }
   ],
   "source": [
    "# Imprimimos coeficientes\n",
    "print (linreg.intercept_)\n",
    "print (linreg.coef_)"
   ]
  },
  {
   "cell_type": "markdown",
   "metadata": {
    "colab": {
     "autoexec": {
      "startup": false,
      "wait_interval": 0
     }
    },
    "colab_type": "code",
    "id": "41UIOTr32BFD"
   },
   "source": [
    "####  <span style = \"color:red\">Código Original.</span>\n",
    "<!---\n",
    "# Imprimimos coeficientes\n",
    "print (linreg.intercept_)\n",
    "print (linreg.coef_)\n",
    "-->"
   ]
  },
  {
   "cell_type": "markdown",
   "metadata": {
    "colab_type": "text",
    "id": "q6B75Sph2BFG"
   },
   "source": [
    "#### Interpretação do parâmetro de ** intercepção ** ($\\beta_0$):\n",
    "\n",
    "- É o valor de $ y $ quando $ x $ = 0.\n",
    "- Portanto, é o número estimado de aluguéis quando a temperatura é de 0 graus Celsius.\n",
    "- ** Obs.: ** Nem sempre faz sentido interpretar a intercepção. (Por quê?)\n",
    "\n",
    "#### Interpretação do coeficiente de ** \"temp\" ** ($\\beta_{i} = \\frac{\\Delta y_{i}}{\\Delta X_{i}}$):\n",
    "\n",
    "- É a mudança em $ y $ dividida pela mudança em $ x $, ou a \"inclinação\".\n",
    "- Assim, um aumento da temperatura de 1 grau Celsius é ** ligado a ** um aumento de aluguéis de 9,17 bicicletas.\n",
    "- Não se trata de uma declaração de causalidade.\n",
    "- $ \\beta_1 $ seria ** negativo ** se um aumento na temperatura fosse ligado a uma ** diminuição** nos aluguéis."
   ]
  },
  {
   "cell_type": "markdown",
   "metadata": {
    "colab_type": "text",
    "id": "jkRnAkyN2BFG"
   },
   "source": [
    "## 4. Uso do modelo para previsão.\n",
    "\n",
    "#### Quantos aluguéis de bicicletas nós poderíamos prever se a temperatura fosse de 25 graus Celsius?"
   ]
  },
  {
   "cell_type": "code",
   "execution_count": 13,
   "metadata": {},
   "outputs": [
    {
     "name": "stdout",
     "output_type": "stream",
     "text": [
      "[235.309725]\n"
     ]
    }
   ],
   "source": [
    "# Aplicando a fórmula manualmente\n",
    "\n",
    "xvalue = 25\n",
    "yvalue = linreg.intercept_ + linreg.coef_* xvalue\n",
    "print(yvalue)"
   ]
  },
  {
   "cell_type": "markdown",
   "metadata": {
    "colab": {
     "autoexec": {
      "startup": false,
      "wait_interval": 0
     }
    },
    "colab_type": "code",
    "id": "lKXKCH_C2BFI"
   },
   "source": [
    "####  <span style = \"color:red\">Código Original.</span>\n",
    "<!---\n",
    "# Aplicando a fórmula manualmente\n",
    "yvalue = linreg.intercept_ + linreg.coef_* (25)\n",
    "print(yvalue)\n",
    "-->"
   ]
  },
  {
   "cell_type": "markdown",
   "metadata": {},
   "source": [
    "#### Acima fizemos o cálculo da equação $ y = a + b X$, abaixo vamos importar o pacote [`numpy`](https://numpy.org/) e prever o valor de saída `yvalue` para a temperatura `xvalue`, com a ajuda da função [`.predict()`](https://scikit-learn.org/stable/modules/generated/sklearn.linear_model.LinearRegression.html#sklearn.linear_model.LinearRegression.predict). \n",
    "\n",
    "#### Para isso será necessário gerar um  arranjo `numpy` com o método [`.array`](https://numpy.org/doc/1.18/reference/generated/numpy.array.html) aplicado ao valor `xvalue` e inverter sua forma com a função [`.reshape()`](https://numpy.org/doc/stable/reference/generated/numpy.reshape.html). "
   ]
  },
  {
   "cell_type": "code",
   "execution_count": 14,
   "metadata": {},
   "outputs": [
    {
     "data": {
      "text/plain": [
       "array([235.309725])"
      ]
     },
     "execution_count": 14,
     "metadata": {},
     "output_type": "execute_result"
    }
   ],
   "source": [
    "import numpy as np\n",
    "\n",
    "test_sklearn = np.array(xvalue).reshape(-1,1)\n",
    "\n",
    "linreg.predict(test_sklearn)"
   ]
  },
  {
   "cell_type": "markdown",
   "metadata": {},
   "source": [
    "####  <span style = \"color:red\">Código Original.</span>\n",
    "<!---\n",
    "import numpy as np\n",
    "\n",
    "test_sklearn = np.array(xvalue).reshape(-1,1)\n",
    "\n",
    "linreg.predict(test_sklearn)\n",
    "-->"
   ]
  },
  {
   "cell_type": "markdown",
   "metadata": {
    "colab_type": "text",
    "id": "jo9roICs2BFR"
   },
   "source": [
    "## 5. A escala das features é importante?\n",
    "\n",
    "#### Vamos supor que a temperatura foi medida em graus `Fahrenheit` em vez de Celsius. Como isso afeta o modelo? Vamos [converter](https://www.rapidtables.com/convert/temperature/how-celsius-to-fahrenheit.html) a temperatura em `Celcius` para essa nova unidade."
   ]
  },
  {
   "cell_type": "code",
   "execution_count": 15,
   "metadata": {},
   "outputs": [
    {
     "data": {
      "text/html": [
       "<div>\n",
       "<style scoped>\n",
       "    .dataframe tbody tr th:only-of-type {\n",
       "        vertical-align: middle;\n",
       "    }\n",
       "\n",
       "    .dataframe tbody tr th {\n",
       "        vertical-align: top;\n",
       "    }\n",
       "\n",
       "    .dataframe thead th {\n",
       "        text-align: right;\n",
       "    }\n",
       "</style>\n",
       "<table border=\"1\" class=\"dataframe\">\n",
       "  <thead>\n",
       "    <tr style=\"text-align: right;\">\n",
       "      <th></th>\n",
       "      <th>season</th>\n",
       "      <th>holiday</th>\n",
       "      <th>workingday</th>\n",
       "      <th>weather</th>\n",
       "      <th>temp</th>\n",
       "      <th>atemp</th>\n",
       "      <th>humidity</th>\n",
       "      <th>windspeed</th>\n",
       "      <th>casual</th>\n",
       "      <th>registered</th>\n",
       "      <th>total</th>\n",
       "      <th>temp_F</th>\n",
       "    </tr>\n",
       "    <tr>\n",
       "      <th>datetime</th>\n",
       "      <th></th>\n",
       "      <th></th>\n",
       "      <th></th>\n",
       "      <th></th>\n",
       "      <th></th>\n",
       "      <th></th>\n",
       "      <th></th>\n",
       "      <th></th>\n",
       "      <th></th>\n",
       "      <th></th>\n",
       "      <th></th>\n",
       "      <th></th>\n",
       "    </tr>\n",
       "  </thead>\n",
       "  <tbody>\n",
       "    <tr>\n",
       "      <th>2011-01-01 00:00:00</th>\n",
       "      <td>1</td>\n",
       "      <td>0</td>\n",
       "      <td>0</td>\n",
       "      <td>1</td>\n",
       "      <td>9.84</td>\n",
       "      <td>14.395</td>\n",
       "      <td>81</td>\n",
       "      <td>0.0</td>\n",
       "      <td>3</td>\n",
       "      <td>13</td>\n",
       "      <td>16</td>\n",
       "      <td>49.712</td>\n",
       "    </tr>\n",
       "    <tr>\n",
       "      <th>2011-01-01 01:00:00</th>\n",
       "      <td>1</td>\n",
       "      <td>0</td>\n",
       "      <td>0</td>\n",
       "      <td>1</td>\n",
       "      <td>9.02</td>\n",
       "      <td>13.635</td>\n",
       "      <td>80</td>\n",
       "      <td>0.0</td>\n",
       "      <td>8</td>\n",
       "      <td>32</td>\n",
       "      <td>40</td>\n",
       "      <td>48.236</td>\n",
       "    </tr>\n",
       "    <tr>\n",
       "      <th>2011-01-01 02:00:00</th>\n",
       "      <td>1</td>\n",
       "      <td>0</td>\n",
       "      <td>0</td>\n",
       "      <td>1</td>\n",
       "      <td>9.02</td>\n",
       "      <td>13.635</td>\n",
       "      <td>80</td>\n",
       "      <td>0.0</td>\n",
       "      <td>5</td>\n",
       "      <td>27</td>\n",
       "      <td>32</td>\n",
       "      <td>48.236</td>\n",
       "    </tr>\n",
       "    <tr>\n",
       "      <th>2011-01-01 03:00:00</th>\n",
       "      <td>1</td>\n",
       "      <td>0</td>\n",
       "      <td>0</td>\n",
       "      <td>1</td>\n",
       "      <td>9.84</td>\n",
       "      <td>14.395</td>\n",
       "      <td>75</td>\n",
       "      <td>0.0</td>\n",
       "      <td>3</td>\n",
       "      <td>10</td>\n",
       "      <td>13</td>\n",
       "      <td>49.712</td>\n",
       "    </tr>\n",
       "    <tr>\n",
       "      <th>2011-01-01 04:00:00</th>\n",
       "      <td>1</td>\n",
       "      <td>0</td>\n",
       "      <td>0</td>\n",
       "      <td>1</td>\n",
       "      <td>9.84</td>\n",
       "      <td>14.395</td>\n",
       "      <td>75</td>\n",
       "      <td>0.0</td>\n",
       "      <td>0</td>\n",
       "      <td>1</td>\n",
       "      <td>1</td>\n",
       "      <td>49.712</td>\n",
       "    </tr>\n",
       "  </tbody>\n",
       "</table>\n",
       "</div>"
      ],
      "text/plain": [
       "                     season  holiday  workingday  weather  temp   atemp  \\\n",
       "datetime                                                                  \n",
       "2011-01-01 00:00:00       1        0           0        1  9.84  14.395   \n",
       "2011-01-01 01:00:00       1        0           0        1  9.02  13.635   \n",
       "2011-01-01 02:00:00       1        0           0        1  9.02  13.635   \n",
       "2011-01-01 03:00:00       1        0           0        1  9.84  14.395   \n",
       "2011-01-01 04:00:00       1        0           0        1  9.84  14.395   \n",
       "\n",
       "                     humidity  windspeed  casual  registered  total  temp_F  \n",
       "datetime                                                                     \n",
       "2011-01-01 00:00:00        81        0.0       3          13     16  49.712  \n",
       "2011-01-01 01:00:00        80        0.0       8          32     40  48.236  \n",
       "2011-01-01 02:00:00        80        0.0       5          27     32  48.236  \n",
       "2011-01-01 03:00:00        75        0.0       3          10     13  49.712  \n",
       "2011-01-01 04:00:00        75        0.0       0           1      1  49.712  "
      ]
     },
     "execution_count": 15,
     "metadata": {},
     "output_type": "execute_result"
    }
   ],
   "source": [
    "# Criamos uma nova coluna para a temperatura em Fahrenheit\n",
    "# ℃ = (℉ - 32)/1.8\n",
    "bikes['temp_F'] = bikes.temp * 1.8 + 32\n",
    "bikes.head()"
   ]
  },
  {
   "cell_type": "markdown",
   "metadata": {
    "colab": {
     "autoexec": {
      "startup": false,
      "wait_interval": 0
     }
    },
    "colab_type": "code",
    "id": "QZLUMrBy2BFS"
   },
   "source": [
    "####  <span style = \"color:red\">Código Original.</span>\n",
    "<!---\n",
    "# Criamos uma nova coluna para a temperatura em Fahrenheit\n",
    "# ℃ = (℉ - 32)/1.8\n",
    "bikes['temp_F'] = bikes.temp * 1.8 + 32\n",
    "bikes.head()\n",
    "-->"
   ]
  },
  {
   "cell_type": "markdown",
   "metadata": {},
   "source": [
    "#### Vamos plotar o total de bikes alugadas em função da nova coluna de temperatura, usando novamente a função `.lmplot`. "
   ]
  },
  {
   "cell_type": "code",
   "execution_count": 16,
   "metadata": {},
   "outputs": [
    {
     "data": {
      "image/png": "[encoded data removed]",
      "text/plain": [
       "<Figure size 522x360 with 1 Axes>"
      ]
     },
     "metadata": {
      "needs_background": "light"
     },
     "output_type": "display_data"
    }
   ],
   "source": [
    "# Ajustamos novamente com Seaborn \n",
    "sns.lmplot(x = 'temp_F', \n",
    "           y = 'total', \n",
    "           data = bikes, \n",
    "           aspect = 1.45, \n",
    "           scatter_kws = {'alpha':0.2}\n",
    "          );"
   ]
  },
  {
   "cell_type": "markdown",
   "metadata": {
    "colab": {
     "autoexec": {
      "startup": false,
      "wait_interval": 0
     }
    },
    "colab_type": "code",
    "id": "pJVO9ddP2BFW"
   },
   "source": [
    "####  <span style = \"color:red\">Código Original.</span>\n",
    "<!---\n",
    "# Ajustamos novamente com Seaborn \n",
    "sns.lmplot(x = 'temp_F', \n",
    "           y = 'total', \n",
    "           data = bikes, \n",
    "           aspect = 1.45, \n",
    "           scatter_kws = {'alpha':0.2}\n",
    "          );\n",
    "-->"
   ]
  },
  {
   "cell_type": "markdown",
   "metadata": {},
   "source": [
    "#### Se repetirmos o processo anterior, de separação de um atributo independente e do atributo target, instanciarmos um modelo, aplicarmos a regressão linear, pelos ajustes, e imprimirmos os coeficientes, teremos:"
   ]
  },
  {
   "cell_type": "code",
   "execution_count": 17,
   "metadata": {},
   "outputs": [
    {
     "name": "stdout",
     "output_type": "stream",
     "text": [
      "-156.98561782129445\n",
      "[5.09474471]\n"
     ]
    }
   ],
   "source": [
    "# criamos novamente X e y\n",
    "\n",
    "feature_cols = ['temp_F']\n",
    "X = bikes[feature_cols]\n",
    "y = bikes.total\n",
    "\n",
    "# Instanciamos o modelo e fitamos\n",
    "\n",
    "linreg = LinearRegression()\n",
    "linreg.fit(X, y)\n",
    "\n",
    "# Imprimimos coeficientes\n",
    "\n",
    "print (linreg.intercept_)\n",
    "print (linreg.coef_)"
   ]
  },
  {
   "cell_type": "markdown",
   "metadata": {
    "colab": {
     "autoexec": {
      "startup": false,
      "wait_interval": 0
     }
    },
    "colab_type": "code",
    "id": "gciJecNo2BFa"
   },
   "source": [
    "####  <span style = \"color:red\">Código Original.</span>\n",
    "<!---\n",
    "# criamos novamente X e y\n",
    "\n",
    "feature_cols = ['temp_F']\n",
    "X = bikes[feature_cols]\n",
    "y = bikes.total\n",
    "\n",
    "# Instanciamos o modelo e fitamos\n",
    "\n",
    "linreg = LinearRegression()\n",
    "linreg.fit(X, y)\n",
    "\n",
    "# Imprimimos coeficientes\n",
    "\n",
    "print (linreg.intercept_)\n",
    "print (linreg.coef_)\n",
    "-->"
   ]
  },
  {
   "cell_type": "markdown",
   "metadata": {},
   "source": [
    "#### Fizermos a conversão de temperatura $T_{Celcius} \\rightarrow T_{Fahrenheit}$."
   ]
  },
  {
   "cell_type": "code",
   "execution_count": 18,
   "metadata": {},
   "outputs": [],
   "source": [
    "# Convertemos 25°C em °F\n",
    "temp_C = 25\n",
    "temp_F = temp_C * 1.8 + 32"
   ]
  },
  {
   "cell_type": "markdown",
   "metadata": {
    "colab": {
     "autoexec": {
      "startup": false,
      "wait_interval": 0
     }
    },
    "colab_type": "code",
    "id": "1Gs4Kphc2BFd"
   },
   "source": [
    "####  <span style = \"color:red\">Código Original.</span>\n",
    "<!---\n",
    "# Convertemos 25°C em °F\n",
    "temp_C = 25\n",
    "temp_F = temp_C * 1.8 + 32\n",
    "-->"
   ]
  },
  {
   "cell_type": "markdown",
   "metadata": {},
   "source": [
    "#### Recalculamos a função $y = a + b X$."
   ]
  },
  {
   "cell_type": "code",
   "execution_count": 19,
   "metadata": {},
   "outputs": [
    {
     "name": "stdout",
     "output_type": "stream",
     "text": [
      "[235.309725]\n"
     ]
    }
   ],
   "source": [
    "xvalue = temp_F\n",
    "yvalue = linreg.intercept_ + linreg.coef_* xvalue\n",
    "print(yvalue)"
   ]
  },
  {
   "cell_type": "markdown",
   "metadata": {},
   "source": [
    "####  <span style = \"color:red\">Código Original.</span>\n",
    "<!---\n",
    "xvalue = temp_F\n",
    "yvalue = linreg.intercept_ + linreg.coef_* xvalue\n",
    "print(yvalue)\n",
    "-->"
   ]
  },
  {
   "cell_type": "markdown",
   "metadata": {},
   "source": [
    "#### E aplicarmos novamente a função `.predict()`, teremos:"
   ]
  },
  {
   "cell_type": "code",
   "execution_count": 20,
   "metadata": {},
   "outputs": [
    {
     "data": {
      "text/plain": [
       "array([235.309725])"
      ]
     },
     "execution_count": 20,
     "metadata": {},
     "output_type": "execute_result"
    }
   ],
   "source": [
    "import numpy as np\n",
    "\n",
    "test_sklearn = np.array(xvalue).reshape(-1,1)\n",
    "\n",
    "linreg.predict(test_sklearn)"
   ]
  },
  {
   "cell_type": "markdown",
   "metadata": {},
   "source": [
    "####  <span style = \"color:red\">Código Original.</span>\n",
    "<!---\n",
    "import numpy as np\n",
    "\n",
    "test_sklearn = np.array(xvalue).reshape(-1,1)\n",
    "\n",
    "linreg.predict(test_sklearn)\n",
    "-->"
   ]
  },
  {
   "cell_type": "markdown",
   "metadata": {},
   "source": [
    "#### E então, a que conclusão você chegou?"
   ]
  },
  {
   "cell_type": "code",
   "execution_count": null,
   "metadata": {},
   "outputs": [],
   "source": []
  },
  {
   "cell_type": "markdown",
   "metadata": {
    "colab_type": "text",
    "id": "rDtmYczc2BFk"
   },
   "source": [
    "####  <span style = \"color:red\">Código Original.</span>\n",
    "<!---\n",
    "** Conclusão: ** A escala das características é ** irrelevante ** para os modelos de regressão linear. Ao mudarmos a escala, simplesmente alteramos nossa ** interpretação** dos coeficientes.\n",
    "-->"
   ]
  },
  {
   "cell_type": "markdown",
   "metadata": {},
   "source": [
    "#### Vamos remover a colunas `'temp_F'` com a função ['.drop()'](https://pandas.pydata.org/pandas-docs/stable/reference/api/pandas.DataFrame.drop.html). Observe os parãmetros `axis = 1`, `inplace = True`."
   ]
  },
  {
   "cell_type": "code",
   "execution_count": 21,
   "metadata": {},
   "outputs": [],
   "source": [
    "# apagamos a coluna temp_F \n",
    "bikes.drop('temp_F', \n",
    "           axis = 1, \n",
    "           inplace = True\n",
    "          )"
   ]
  },
  {
   "cell_type": "markdown",
   "metadata": {
    "colab": {
     "autoexec": {
      "startup": false,
      "wait_interval": 0
     }
    },
    "colab_type": "code",
    "id": "Xwi73QK02BFl"
   },
   "source": [
    "####  <span style = \"color:red\">Código Original.</span>\n",
    "<!---\n",
    "# apagamos a coluna temp_F \n",
    "bikes.drop('temp_F', \n",
    "           axis = 1, \n",
    "           inplace = True\n",
    "          )\n",
    "-->"
   ]
  },
  {
   "cell_type": "markdown",
   "metadata": {
    "colab_type": "text",
    "id": "dcrOLjeY2BFo"
   },
   "source": [
    "## 6. Visualização dos dados 2."
   ]
  },
  {
   "cell_type": "markdown",
   "metadata": {},
   "source": [
    "#### Vamos separar alguns atributos particulares, crie uma lista `'feature_cols'` para receber os atributos `'temp'`, `'season'`, `'weather'`, `'humidity'`."
   ]
  },
  {
   "cell_type": "code",
   "execution_count": 22,
   "metadata": {},
   "outputs": [],
   "source": [
    "# Exploramos mais features\n",
    "feature_cols = ['temp', 'season', 'weather', 'humidity']"
   ]
  },
  {
   "cell_type": "markdown",
   "metadata": {
    "colab": {
     "autoexec": {
      "startup": false,
      "wait_interval": 0
     }
    },
    "colab_type": "code",
    "id": "zvI5Ms-o2BFp"
   },
   "source": [
    "####  <span style = \"color:red\">Código Original.</span>\n",
    "<!---\n",
    "# Exploramos mais features\n",
    "feature_cols = ['temp', 'season', 'weather', 'humidity']\n",
    "-->"
   ]
  },
  {
   "cell_type": "markdown",
   "metadata": {},
   "source": [
    "#### Vamos usar a função `.pairplot()` para checar a dispersão dos atributos da lista criada e o total de bikes alugadas."
   ]
  },
  {
   "cell_type": "code",
   "execution_count": 23,
   "metadata": {},
   "outputs": [
    {
     "data": {
      "image/png": "[encoded data removed]",
      "text/plain": [
       "<Figure size 720x180 with 4 Axes>"
      ]
     },
     "metadata": {
      "needs_background": "light"
     },
     "output_type": "display_data"
    }
   ],
   "source": [
    "# plots múltiplos em seaborn\n",
    "sns.pairplot(bikes, \n",
    "             x_vars = feature_cols, \n",
    "             y_vars = 'total', \n",
    "             kind = 'reg'\n",
    "            );"
   ]
  },
  {
   "cell_type": "markdown",
   "metadata": {
    "colab": {
     "autoexec": {
      "startup": false,
      "wait_interval": 0
     }
    },
    "colab_type": "code",
    "id": "mfGXTcEy2BFr"
   },
   "source": [
    "####  <span style = \"color:red\">Código Original.</span>\n",
    "<!---\n",
    "# plots múltiplos em seaborn\n",
    "sns.pairplot(bikes, \n",
    "             x_vars = feature_cols, \n",
    "             y_vars = 'total', \n",
    "             kind = 'reg'\n",
    "            );\n",
    "-->"
   ]
  },
  {
   "cell_type": "markdown",
   "metadata": {},
   "source": [
    "#### É possível também realizar o mesmo plot com a função [`.subplots()`](https://matplotlib.org/api/_as_gen/matplotlib.pyplot.subplots.html) e um loop `for` da lista de atributos criada."
   ]
  },
  {
   "cell_type": "code",
   "execution_count": 24,
   "metadata": {},
   "outputs": [
    {
     "data": {
      "image/png": "[encoded data removed]",
      "text/plain": [
       "<Figure size 1152x216 with 4 Axes>"
      ]
     },
     "metadata": {
      "needs_background": "light"
     },
     "output_type": "display_data"
    }
   ],
   "source": [
    "# plots múltiplos em pandas\n",
    "fig, axs = plt.subplots(1, \n",
    "                        len(feature_cols), \n",
    "                        sharey = True)\n",
    "\n",
    "for index, feature in enumerate(feature_cols):\n",
    "    bikes.plot(kind = 'scatter', \n",
    "               x = feature, \n",
    "               y = 'total', \n",
    "               ax = axs[index], \n",
    "               figsize = (16, 3),\n",
    "               color = 'r'\n",
    "              )"
   ]
  },
  {
   "cell_type": "markdown",
   "metadata": {
    "colab": {
     "autoexec": {
      "startup": false,
      "wait_interval": 0
     }
    },
    "colab_type": "code",
    "id": "Y90QH2BT2BFv"
   },
   "source": [
    "####  <span style = \"color:red\">Código Original.</span>\n",
    "<!---\n",
    "# plots múltiplos em pandas\n",
    "\n",
    "fig, axs = plt.subplots(1, \n",
    "                        len(feature_cols), \n",
    "                        sharey = True)\n",
    "\n",
    "for index, feature in enumerate(feature_cols):\n",
    "    bikes.plot(kind = 'scatter', \n",
    "               x = feature, \n",
    "               y = 'total', \n",
    "               ax = axs[index], \n",
    "               figsize = (16, 3),\n",
    "               color = 'r'\n",
    "              )\n",
    "-->"
   ]
  },
  {
   "cell_type": "markdown",
   "metadata": {
    "colab_type": "text",
    "id": "30gnMtvl2BFy"
   },
   "source": [
    "### <center>** O que estamos olhando? ** "
   ]
  },
  {
   "cell_type": "code",
   "execution_count": 25,
   "metadata": {},
   "outputs": [
    {
     "data": {
      "text/html": [
       "<div>\n",
       "<style scoped>\n",
       "    .dataframe tbody tr th:only-of-type {\n",
       "        vertical-align: middle;\n",
       "    }\n",
       "\n",
       "    .dataframe tbody tr th {\n",
       "        vertical-align: top;\n",
       "    }\n",
       "\n",
       "    .dataframe thead th {\n",
       "        text-align: right;\n",
       "    }\n",
       "</style>\n",
       "<table border=\"1\" class=\"dataframe\">\n",
       "  <thead>\n",
       "    <tr style=\"text-align: right;\">\n",
       "      <th></th>\n",
       "      <th>season</th>\n",
       "      <th>holiday</th>\n",
       "      <th>workingday</th>\n",
       "      <th>weather</th>\n",
       "      <th>temp</th>\n",
       "      <th>atemp</th>\n",
       "      <th>humidity</th>\n",
       "      <th>windspeed</th>\n",
       "      <th>casual</th>\n",
       "      <th>registered</th>\n",
       "      <th>total</th>\n",
       "    </tr>\n",
       "    <tr>\n",
       "      <th>datetime</th>\n",
       "      <th></th>\n",
       "      <th></th>\n",
       "      <th></th>\n",
       "      <th></th>\n",
       "      <th></th>\n",
       "      <th></th>\n",
       "      <th></th>\n",
       "      <th></th>\n",
       "      <th></th>\n",
       "      <th></th>\n",
       "      <th></th>\n",
       "    </tr>\n",
       "  </thead>\n",
       "  <tbody>\n",
       "    <tr>\n",
       "      <th>2011-01-01 00:00:00</th>\n",
       "      <td>1</td>\n",
       "      <td>0</td>\n",
       "      <td>0</td>\n",
       "      <td>1</td>\n",
       "      <td>9.84</td>\n",
       "      <td>14.395</td>\n",
       "      <td>81</td>\n",
       "      <td>0.0</td>\n",
       "      <td>3</td>\n",
       "      <td>13</td>\n",
       "      <td>16</td>\n",
       "    </tr>\n",
       "    <tr>\n",
       "      <th>2011-01-01 01:00:00</th>\n",
       "      <td>1</td>\n",
       "      <td>0</td>\n",
       "      <td>0</td>\n",
       "      <td>1</td>\n",
       "      <td>9.02</td>\n",
       "      <td>13.635</td>\n",
       "      <td>80</td>\n",
       "      <td>0.0</td>\n",
       "      <td>8</td>\n",
       "      <td>32</td>\n",
       "      <td>40</td>\n",
       "    </tr>\n",
       "    <tr>\n",
       "      <th>2011-01-01 02:00:00</th>\n",
       "      <td>1</td>\n",
       "      <td>0</td>\n",
       "      <td>0</td>\n",
       "      <td>1</td>\n",
       "      <td>9.02</td>\n",
       "      <td>13.635</td>\n",
       "      <td>80</td>\n",
       "      <td>0.0</td>\n",
       "      <td>5</td>\n",
       "      <td>27</td>\n",
       "      <td>32</td>\n",
       "    </tr>\n",
       "    <tr>\n",
       "      <th>2011-01-01 03:00:00</th>\n",
       "      <td>1</td>\n",
       "      <td>0</td>\n",
       "      <td>0</td>\n",
       "      <td>1</td>\n",
       "      <td>9.84</td>\n",
       "      <td>14.395</td>\n",
       "      <td>75</td>\n",
       "      <td>0.0</td>\n",
       "      <td>3</td>\n",
       "      <td>10</td>\n",
       "      <td>13</td>\n",
       "    </tr>\n",
       "    <tr>\n",
       "      <th>2011-01-01 04:00:00</th>\n",
       "      <td>1</td>\n",
       "      <td>0</td>\n",
       "      <td>0</td>\n",
       "      <td>1</td>\n",
       "      <td>9.84</td>\n",
       "      <td>14.395</td>\n",
       "      <td>75</td>\n",
       "      <td>0.0</td>\n",
       "      <td>0</td>\n",
       "      <td>1</td>\n",
       "      <td>1</td>\n",
       "    </tr>\n",
       "  </tbody>\n",
       "</table>\n",
       "</div>"
      ],
      "text/plain": [
       "                     season  holiday  workingday  weather  temp   atemp  \\\n",
       "datetime                                                                  \n",
       "2011-01-01 00:00:00       1        0           0        1  9.84  14.395   \n",
       "2011-01-01 01:00:00       1        0           0        1  9.02  13.635   \n",
       "2011-01-01 02:00:00       1        0           0        1  9.02  13.635   \n",
       "2011-01-01 03:00:00       1        0           0        1  9.84  14.395   \n",
       "2011-01-01 04:00:00       1        0           0        1  9.84  14.395   \n",
       "\n",
       "                     humidity  windspeed  casual  registered  total  \n",
       "datetime                                                             \n",
       "2011-01-01 00:00:00        81        0.0       3          13     16  \n",
       "2011-01-01 01:00:00        80        0.0       8          32     40  \n",
       "2011-01-01 02:00:00        80        0.0       5          27     32  \n",
       "2011-01-01 03:00:00        75        0.0       3          10     13  \n",
       "2011-01-01 04:00:00        75        0.0       0           1      1  "
      ]
     },
     "execution_count": 25,
     "metadata": {},
     "output_type": "execute_result"
    }
   ],
   "source": [
    "bikes.head()"
   ]
  },
  {
   "cell_type": "markdown",
   "metadata": {},
   "source": [
    "#### Vamos usar o método [`.crosstab()`](https://pandas.pydata.org/pandas-docs/stable/reference/api/pandas.crosstab.html) para criar uma tabela cruzada para as colunas ´'season'´ e `'month'`. Por padrão, essa função calcula uma tabela de frequência dos fatores."
   ]
  },
  {
   "cell_type": "code",
   "execution_count": 26,
   "metadata": {},
   "outputs": [
    {
     "data": {
      "text/html": [
       "<div>\n",
       "<style scoped>\n",
       "    .dataframe tbody tr th:only-of-type {\n",
       "        vertical-align: middle;\n",
       "    }\n",
       "\n",
       "    .dataframe tbody tr th {\n",
       "        vertical-align: top;\n",
       "    }\n",
       "\n",
       "    .dataframe thead th {\n",
       "        text-align: right;\n",
       "    }\n",
       "</style>\n",
       "<table border=\"1\" class=\"dataframe\">\n",
       "  <thead>\n",
       "    <tr style=\"text-align: right;\">\n",
       "      <th>col_0</th>\n",
       "      <th>1</th>\n",
       "      <th>2</th>\n",
       "      <th>3</th>\n",
       "      <th>4</th>\n",
       "      <th>5</th>\n",
       "      <th>6</th>\n",
       "      <th>7</th>\n",
       "      <th>8</th>\n",
       "      <th>9</th>\n",
       "      <th>10</th>\n",
       "      <th>11</th>\n",
       "      <th>12</th>\n",
       "    </tr>\n",
       "    <tr>\n",
       "      <th>season</th>\n",
       "      <th></th>\n",
       "      <th></th>\n",
       "      <th></th>\n",
       "      <th></th>\n",
       "      <th></th>\n",
       "      <th></th>\n",
       "      <th></th>\n",
       "      <th></th>\n",
       "      <th></th>\n",
       "      <th></th>\n",
       "      <th></th>\n",
       "      <th></th>\n",
       "    </tr>\n",
       "  </thead>\n",
       "  <tbody>\n",
       "    <tr>\n",
       "      <th>1</th>\n",
       "      <td>884</td>\n",
       "      <td>901</td>\n",
       "      <td>901</td>\n",
       "      <td>0</td>\n",
       "      <td>0</td>\n",
       "      <td>0</td>\n",
       "      <td>0</td>\n",
       "      <td>0</td>\n",
       "      <td>0</td>\n",
       "      <td>0</td>\n",
       "      <td>0</td>\n",
       "      <td>0</td>\n",
       "    </tr>\n",
       "    <tr>\n",
       "      <th>2</th>\n",
       "      <td>0</td>\n",
       "      <td>0</td>\n",
       "      <td>0</td>\n",
       "      <td>909</td>\n",
       "      <td>912</td>\n",
       "      <td>912</td>\n",
       "      <td>0</td>\n",
       "      <td>0</td>\n",
       "      <td>0</td>\n",
       "      <td>0</td>\n",
       "      <td>0</td>\n",
       "      <td>0</td>\n",
       "    </tr>\n",
       "    <tr>\n",
       "      <th>3</th>\n",
       "      <td>0</td>\n",
       "      <td>0</td>\n",
       "      <td>0</td>\n",
       "      <td>0</td>\n",
       "      <td>0</td>\n",
       "      <td>0</td>\n",
       "      <td>912</td>\n",
       "      <td>912</td>\n",
       "      <td>909</td>\n",
       "      <td>0</td>\n",
       "      <td>0</td>\n",
       "      <td>0</td>\n",
       "    </tr>\n",
       "    <tr>\n",
       "      <th>4</th>\n",
       "      <td>0</td>\n",
       "      <td>0</td>\n",
       "      <td>0</td>\n",
       "      <td>0</td>\n",
       "      <td>0</td>\n",
       "      <td>0</td>\n",
       "      <td>0</td>\n",
       "      <td>0</td>\n",
       "      <td>0</td>\n",
       "      <td>911</td>\n",
       "      <td>911</td>\n",
       "      <td>912</td>\n",
       "    </tr>\n",
       "  </tbody>\n",
       "</table>\n",
       "</div>"
      ],
      "text/plain": [
       "col_0    1    2    3    4    5    6    7    8    9    10   11   12\n",
       "season                                                            \n",
       "1       884  901  901    0    0    0    0    0    0    0    0    0\n",
       "2         0    0    0  909  912  912    0    0    0    0    0    0\n",
       "3         0    0    0    0    0    0  912  912  909    0    0    0\n",
       "4         0    0    0    0    0    0    0    0    0  911  911  912"
      ]
     },
     "execution_count": 26,
     "metadata": {},
     "output_type": "execute_result"
    }
   ],
   "source": [
    "pd.crosstab(bikes['season'], bikes.index.month)"
   ]
  },
  {
   "cell_type": "markdown",
   "metadata": {},
   "source": [
    "####  <span style = \"color:red\">Código Original.</span>\n",
    "<!---\n",
    "# Criamos uma tabulação cruzada para as variáveis \"season\" e 'month'.(ou seja, olhamos a quantidade de linhas por estação e por mês)\n",
    "\n",
    "pd.crosstab(bikes['season'], bikes.index.month)\n",
    "-->"
   ]
  },
  {
   "cell_type": "markdown",
   "metadata": {},
   "source": [
    "#### Vamos plotar agora um boxplot com a função [`.boxplot()`](https://pandas.pydata.org/pandas-docs/stable/reference/api/pandas.DataFrame.boxplot.html) para entendermos a distribuição do `'total'` de bikes alugadas ao longo das quatro estações `'season'`.  "
   ]
  },
  {
   "cell_type": "code",
   "execution_count": 27,
   "metadata": {},
   "outputs": [
    {
     "data": {
      "image/png": "[encoded data removed]",
      "text/plain": [
       "<Figure size 576x432 with 1 Axes>"
      ]
     },
     "metadata": {
      "needs_background": "light"
     },
     "output_type": "display_data"
    }
   ],
   "source": [
    "# Fazemos um box plot dos aluguéis agrupados por season\n",
    "bikes.boxplot(column = 'total', by = 'season');"
   ]
  },
  {
   "cell_type": "markdown",
   "metadata": {
    "colab": {
     "autoexec": {
      "startup": false,
      "wait_interval": 0
     }
    },
    "colab_type": "code",
    "id": "vXT_FIA_2BF1"
   },
   "source": [
    "####  <span style = \"color:red\">Código Original.</span>\n",
    "<!---\n",
    "# Fazemos um box plot dos aluguéis agrupados por season\n",
    "bikes.boxplot(column = 'total', by = 'season');\n",
    "-->"
   ]
  },
  {
   "cell_type": "markdown",
   "metadata": {
    "colab_type": "text",
    "id": "hAdYywHb2BF5"
   },
   "source": [
    "__Obs!!:__\n",
    "\n",
    "- Uma linha não pode capturar um relacionamento não linear.\n",
    "- Será que tem mais aluguéis no inverno do que na primavera?"
   ]
  },
  {
   "cell_type": "markdown",
   "metadata": {},
   "source": [
    "#### Vamos estudar a influência das estações no aluguel de bicicletas, para isso vamos plotar o número total alugado com a função `.plot`. "
   ]
  },
  {
   "cell_type": "code",
   "execution_count": 28,
   "metadata": {},
   "outputs": [
    {
     "data": {
      "image/png": "[encoded data removed]",
      "text/plain": [
       "<Figure size 576x432 with 1 Axes>"
      ]
     },
     "metadata": {
      "needs_background": "light"
     },
     "output_type": "display_data"
    }
   ],
   "source": [
    "# plots aluguéis em função dos meses\n",
    "bikes['total'].plot();"
   ]
  },
  {
   "cell_type": "markdown",
   "metadata": {
    "colab": {
     "autoexec": {
      "startup": false,
      "wait_interval": 0
     }
    },
    "colab_type": "code",
    "id": "b55W2M0N2BF6"
   },
   "source": [
    "####  <span style = \"color:red\">Código Original.</span>\n",
    "<!---\n",
    "# plots aluguéis em função dos meses\n",
    "bikes['total'].plot();\n",
    "-->"
   ]
  },
  {
   "cell_type": "markdown",
   "metadata": {
    "colab_type": "text",
    "id": "91v73w6W2BF9"
   },
   "source": [
    "#### O que isso nos indica?"
   ]
  },
  {
   "cell_type": "markdown",
   "metadata": {},
   "source": [
    "####  <span style = \"color:red\">Código Original.</span>\n",
    "<!---\n",
    "- Há mais aluguéis no inverno do que na primavera, \n",
    "- Mas só porque o sistema está experimentando um ** crescimento geral ** e os meses do inverno chegam depois dos meses da primavera. (?)\n",
    "-->"
   ]
  },
  {
   "cell_type": "markdown",
   "metadata": {},
   "source": [
    "#### Vamos estudar a correlação entre os atributos do dataset com uma matriz de correlação."
   ]
  },
  {
   "cell_type": "code",
   "execution_count": 29,
   "metadata": {},
   "outputs": [
    {
     "data": {
      "text/html": [
       "<div>\n",
       "<style scoped>\n",
       "    .dataframe tbody tr th:only-of-type {\n",
       "        vertical-align: middle;\n",
       "    }\n",
       "\n",
       "    .dataframe tbody tr th {\n",
       "        vertical-align: top;\n",
       "    }\n",
       "\n",
       "    .dataframe thead th {\n",
       "        text-align: right;\n",
       "    }\n",
       "</style>\n",
       "<table border=\"1\" class=\"dataframe\">\n",
       "  <thead>\n",
       "    <tr style=\"text-align: right;\">\n",
       "      <th></th>\n",
       "      <th>season</th>\n",
       "      <th>holiday</th>\n",
       "      <th>workingday</th>\n",
       "      <th>weather</th>\n",
       "      <th>temp</th>\n",
       "      <th>atemp</th>\n",
       "      <th>humidity</th>\n",
       "      <th>windspeed</th>\n",
       "      <th>casual</th>\n",
       "      <th>registered</th>\n",
       "      <th>total</th>\n",
       "    </tr>\n",
       "  </thead>\n",
       "  <tbody>\n",
       "    <tr>\n",
       "      <th>season</th>\n",
       "      <td>1.000000</td>\n",
       "      <td>0.029368</td>\n",
       "      <td>-0.008126</td>\n",
       "      <td>0.008879</td>\n",
       "      <td>0.258689</td>\n",
       "      <td>0.264744</td>\n",
       "      <td>0.190610</td>\n",
       "      <td>-0.147121</td>\n",
       "      <td>0.096758</td>\n",
       "      <td>0.164011</td>\n",
       "      <td>0.163439</td>\n",
       "    </tr>\n",
       "    <tr>\n",
       "      <th>holiday</th>\n",
       "      <td>0.029368</td>\n",
       "      <td>1.000000</td>\n",
       "      <td>-0.250491</td>\n",
       "      <td>-0.007074</td>\n",
       "      <td>0.000295</td>\n",
       "      <td>-0.005215</td>\n",
       "      <td>0.001929</td>\n",
       "      <td>0.008409</td>\n",
       "      <td>0.043799</td>\n",
       "      <td>-0.020956</td>\n",
       "      <td>-0.005393</td>\n",
       "    </tr>\n",
       "    <tr>\n",
       "      <th>workingday</th>\n",
       "      <td>-0.008126</td>\n",
       "      <td>-0.250491</td>\n",
       "      <td>1.000000</td>\n",
       "      <td>0.033772</td>\n",
       "      <td>0.029966</td>\n",
       "      <td>0.024660</td>\n",
       "      <td>-0.010880</td>\n",
       "      <td>0.013373</td>\n",
       "      <td>-0.319111</td>\n",
       "      <td>0.119460</td>\n",
       "      <td>0.011594</td>\n",
       "    </tr>\n",
       "    <tr>\n",
       "      <th>weather</th>\n",
       "      <td>0.008879</td>\n",
       "      <td>-0.007074</td>\n",
       "      <td>0.033772</td>\n",
       "      <td>1.000000</td>\n",
       "      <td>-0.055035</td>\n",
       "      <td>-0.055376</td>\n",
       "      <td>0.406244</td>\n",
       "      <td>0.007261</td>\n",
       "      <td>-0.135918</td>\n",
       "      <td>-0.109340</td>\n",
       "      <td>-0.128655</td>\n",
       "    </tr>\n",
       "    <tr>\n",
       "      <th>temp</th>\n",
       "      <td>0.258689</td>\n",
       "      <td>0.000295</td>\n",
       "      <td>0.029966</td>\n",
       "      <td>-0.055035</td>\n",
       "      <td>1.000000</td>\n",
       "      <td>0.984948</td>\n",
       "      <td>-0.064949</td>\n",
       "      <td>-0.017852</td>\n",
       "      <td>0.467097</td>\n",
       "      <td>0.318571</td>\n",
       "      <td>0.394454</td>\n",
       "    </tr>\n",
       "    <tr>\n",
       "      <th>atemp</th>\n",
       "      <td>0.264744</td>\n",
       "      <td>-0.005215</td>\n",
       "      <td>0.024660</td>\n",
       "      <td>-0.055376</td>\n",
       "      <td>0.984948</td>\n",
       "      <td>1.000000</td>\n",
       "      <td>-0.043536</td>\n",
       "      <td>-0.057473</td>\n",
       "      <td>0.462067</td>\n",
       "      <td>0.314635</td>\n",
       "      <td>0.389784</td>\n",
       "    </tr>\n",
       "    <tr>\n",
       "      <th>humidity</th>\n",
       "      <td>0.190610</td>\n",
       "      <td>0.001929</td>\n",
       "      <td>-0.010880</td>\n",
       "      <td>0.406244</td>\n",
       "      <td>-0.064949</td>\n",
       "      <td>-0.043536</td>\n",
       "      <td>1.000000</td>\n",
       "      <td>-0.318607</td>\n",
       "      <td>-0.348187</td>\n",
       "      <td>-0.265458</td>\n",
       "      <td>-0.317371</td>\n",
       "    </tr>\n",
       "    <tr>\n",
       "      <th>windspeed</th>\n",
       "      <td>-0.147121</td>\n",
       "      <td>0.008409</td>\n",
       "      <td>0.013373</td>\n",
       "      <td>0.007261</td>\n",
       "      <td>-0.017852</td>\n",
       "      <td>-0.057473</td>\n",
       "      <td>-0.318607</td>\n",
       "      <td>1.000000</td>\n",
       "      <td>0.092276</td>\n",
       "      <td>0.091052</td>\n",
       "      <td>0.101369</td>\n",
       "    </tr>\n",
       "    <tr>\n",
       "      <th>casual</th>\n",
       "      <td>0.096758</td>\n",
       "      <td>0.043799</td>\n",
       "      <td>-0.319111</td>\n",
       "      <td>-0.135918</td>\n",
       "      <td>0.467097</td>\n",
       "      <td>0.462067</td>\n",
       "      <td>-0.348187</td>\n",
       "      <td>0.092276</td>\n",
       "      <td>1.000000</td>\n",
       "      <td>0.497250</td>\n",
       "      <td>0.690414</td>\n",
       "    </tr>\n",
       "    <tr>\n",
       "      <th>registered</th>\n",
       "      <td>0.164011</td>\n",
       "      <td>-0.020956</td>\n",
       "      <td>0.119460</td>\n",
       "      <td>-0.109340</td>\n",
       "      <td>0.318571</td>\n",
       "      <td>0.314635</td>\n",
       "      <td>-0.265458</td>\n",
       "      <td>0.091052</td>\n",
       "      <td>0.497250</td>\n",
       "      <td>1.000000</td>\n",
       "      <td>0.970948</td>\n",
       "    </tr>\n",
       "    <tr>\n",
       "      <th>total</th>\n",
       "      <td>0.163439</td>\n",
       "      <td>-0.005393</td>\n",
       "      <td>0.011594</td>\n",
       "      <td>-0.128655</td>\n",
       "      <td>0.394454</td>\n",
       "      <td>0.389784</td>\n",
       "      <td>-0.317371</td>\n",
       "      <td>0.101369</td>\n",
       "      <td>0.690414</td>\n",
       "      <td>0.970948</td>\n",
       "      <td>1.000000</td>\n",
       "    </tr>\n",
       "  </tbody>\n",
       "</table>\n",
       "</div>"
      ],
      "text/plain": [
       "              season   holiday  workingday   weather      temp     atemp  \\\n",
       "season      1.000000  0.029368   -0.008126  0.008879  0.258689  0.264744   \n",
       "holiday     0.029368  1.000000   -0.250491 -0.007074  0.000295 -0.005215   \n",
       "workingday -0.008126 -0.250491    1.000000  0.033772  0.029966  0.024660   \n",
       "weather     0.008879 -0.007074    0.033772  1.000000 -0.055035 -0.055376   \n",
       "temp        0.258689  0.000295    0.029966 -0.055035  1.000000  0.984948   \n",
       "atemp       0.264744 -0.005215    0.024660 -0.055376  0.984948  1.000000   \n",
       "humidity    0.190610  0.001929   -0.010880  0.406244 -0.064949 -0.043536   \n",
       "windspeed  -0.147121  0.008409    0.013373  0.007261 -0.017852 -0.057473   \n",
       "casual      0.096758  0.043799   -0.319111 -0.135918  0.467097  0.462067   \n",
       "registered  0.164011 -0.020956    0.119460 -0.109340  0.318571  0.314635   \n",
       "total       0.163439 -0.005393    0.011594 -0.128655  0.394454  0.389784   \n",
       "\n",
       "            humidity  windspeed    casual  registered     total  \n",
       "season      0.190610  -0.147121  0.096758    0.164011  0.163439  \n",
       "holiday     0.001929   0.008409  0.043799   -0.020956 -0.005393  \n",
       "workingday -0.010880   0.013373 -0.319111    0.119460  0.011594  \n",
       "weather     0.406244   0.007261 -0.135918   -0.109340 -0.128655  \n",
       "temp       -0.064949  -0.017852  0.467097    0.318571  0.394454  \n",
       "atemp      -0.043536  -0.057473  0.462067    0.314635  0.389784  \n",
       "humidity    1.000000  -0.318607 -0.348187   -0.265458 -0.317371  \n",
       "windspeed  -0.318607   1.000000  0.092276    0.091052  0.101369  \n",
       "casual     -0.348187   0.092276  1.000000    0.497250  0.690414  \n",
       "registered -0.265458   0.091052  0.497250    1.000000  0.970948  \n",
       "total      -0.317371   0.101369  0.690414    0.970948  1.000000  "
      ]
     },
     "execution_count": 29,
     "metadata": {},
     "output_type": "execute_result"
    }
   ],
   "source": [
    "# matriz de correlação (intervalos de 1 a -1)\n",
    "bikes.corr()"
   ]
  },
  {
   "cell_type": "markdown",
   "metadata": {},
   "source": [
    "####  <span style = \"color:red\">Código Original.</span>\n",
    "<!---\n",
    "# matriz de correlação (intervalos de 1 a -1)\n",
    "bikes.corr()\n",
    "-->"
   ]
  },
  {
   "cell_type": "markdown",
   "metadata": {},
   "source": [
    "#### Podemos ainda plotar um mapa de calor com a função [`.heatmap()`](https://seaborn.pydata.org/generated/seaborn.heatmap.html) para termos uma visualização melhor das correlações."
   ]
  },
  {
   "cell_type": "code",
   "execution_count": 30,
   "metadata": {},
   "outputs": [
    {
     "data": {
      "image/png": "[encoded data removed]",
      "text/plain": [
       "<Figure size 576x432 with 2 Axes>"
      ]
     },
     "metadata": {
      "needs_background": "light"
     },
     "output_type": "display_data"
    }
   ],
   "source": [
    "# visualizamos a matriz de correlação em Seaborn usando a heatmap\n",
    "sns.heatmap(bikes.corr());"
   ]
  },
  {
   "cell_type": "markdown",
   "metadata": {
    "colab": {
     "autoexec": {
      "startup": false,
      "wait_interval": 0
     }
    },
    "colab_type": "code",
    "id": "A2u26rYy2BGC"
   },
   "source": [
    "####  <span style = \"color:red\">Código Original.</span>\n",
    "<!---\n",
    "# visualizamos a matriz de correlação em Seaborn usando a heatmap\n",
    "sns.heatmap(bikes.corr());\n",
    "-->"
   ]
  },
  {
   "cell_type": "markdown",
   "metadata": {},
   "source": [
    "## <span style = \"color:blue\">Prática independente</span>\n",
    "\n",
    "\n",
    "#### Vamos criar um conjunto aleatório de dados e realizar uma regressão linear simples, modelizando os dados.\n",
    "\n",
    "\n",
    "#### Para gerar os dados aleatórios você vai precisar das seguintes funções e métodos:\n",
    "\n",
    "- [`np.random.RandomState()`](https://docs.scipy.org/doc/numpy-1.15.0/reference/generated/numpy.random.RandomState.html) e fornecer uma semente para a pseudo-aleatoriedade;\n",
    "- [`.rand()`](https://numpy.org/devdocs/reference/random/generated/numpy.random.RandomState.rand.html) para retornar valores aleatórios em uma determinada forma;\n",
    "- [`.randn()`](https://docs.scipy.org/doc/numpy-1.15.1/reference/generated/numpy.random.RandomState.randn.html) para retornar uma amostra com distribuição normal."
   ]
  },
  {
   "cell_type": "code",
   "execution_count": 31,
   "metadata": {},
   "outputs": [
    {
     "data": {
      "image/png": "[encoded data removed]",
      "text/plain": [
       "<Figure size 576x432 with 1 Axes>"
      ]
     },
     "metadata": {
      "needs_background": "light"
     },
     "output_type": "display_data"
    }
   ],
   "source": [
    "# Fixando a semente da geração de códigoss randômica para a obtenção dos mesmos resultados para todos\n",
    "rng = np.random.RandomState(10)\n",
    "\n",
    "# Gerando os valores para x e y\n",
    "x = 10*rng.rand(200)\n",
    "y = 3*x  + 5 + 4*rng.randn(200)\n",
    "\n",
    "# Plotando um gráfico de dispersão\n",
    "plt.scatter(x, y)\n",
    "plt.show()"
   ]
  },
  {
   "cell_type": "markdown",
   "metadata": {},
   "source": [
    "#### Depois disso será necessário que você realize o processo de regressão, aplicando:\n",
    "\n",
    "- A biblioteca [`sklearn.linear_model.LinearRegression`](https://scikit-learn.org/stable/modules/generated/sklearn.linear_model.LinearRegression.html)\n",
    "- A função [`LinearRegression()`]() para ajustar um modelo linear com coeficientes, lebrando de definir o parâmetro `fit_intercept = True`.\n",
    "- O método de ajuste [`.fit()`](https://scikit-learn.org/stable/modules/generated/sklearn.linear_model.LinearRegression.html#sklearn.linear_model.LinearRegression.fit)\n",
    "- O [método](https://medium.com/@ian.dzindo01/what-is-numpy-newaxis-and-when-to-use-it-8cb61c7ed6ae) [`np.newaxis`](https://numpy.org/doc/stable/reference/constants.html#numpy.newaxis)\n",
    "- O método [`.linspace()`](https://numpy.org/doc/stable/reference/generated/numpy.linspace.html) para retornar números espaçados uniformemente em um intervalo especificado;\n",
    "- O método [`.predict()`](https://scikit-learn.org/stable/modules/generated/sklearn.linear_model.LinearRegression.html#sklearn.linear_model.LinearRegression.predict) para realizar as previsões do modelo;\n",
    "- O método [`.scatter()`](https://matplotlib.org/3.2.2/api/_as_gen/matplotlib.pyplot.scatter.html) para a dispersão dos pontos;\n",
    "- E o método [`.plot()`](https://matplotlib.org/3.2.2/api/_as_gen/matplotlib.pyplot.plot.html) para a curva ajustada."
   ]
  },
  {
   "cell_type": "code",
   "execution_count": 32,
   "metadata": {},
   "outputs": [
    {
     "data": {
      "image/png": "[encoded data removed]",
      "text/plain": [
       "<Figure size 576x432 with 1 Axes>"
      ]
     },
     "metadata": {
      "needs_background": "light"
     },
     "output_type": "display_data"
    },
    {
     "name": "stdout",
     "output_type": "stream",
     "text": [
      "Intercepto beta_0:  5.181982360588229\n",
      "Inclinação beta_1:  3.0105554108804222\n"
     ]
    }
   ],
   "source": [
    "# Importando a biblioteca\n",
    "from sklearn.linear_model import LinearRegression\n",
    "\n",
    "# instanciando o modelo\n",
    "model = LinearRegression(fit_intercept = True)\n",
    "\n",
    "# Ajustando o modelo\n",
    "model.fit(x[:, np.newaxis], y)\n",
    "\n",
    "# Fazendo predições\n",
    "xfit = np.linspace(0, 10, 200)\n",
    "yhat = model.predict(xfit[:, np.newaxis])\n",
    "\n",
    "# Plotando os resultados em uma linha no mesmo gráfico de dispersão dos dados originais\n",
    "plt.scatter(x, y)\n",
    "plt.plot(xfit, yhat, color = 'r')\n",
    "plt.show()\n",
    "\n",
    "# Imprimindo os resultados - estimadores Beta\n",
    "print(\"Intercepto beta_0: \", model.intercept_)\n",
    "print(\"Inclinação beta_1: \", model.coef_[0])"
   ]
  },
  {
   "cell_type": "markdown",
   "metadata": {},
   "source": [
    "#### Uma vez feita a regressão, você terá que calcular os valores do erro médio quadrático ([MSE](https://en.wikipedia.org/wiki/Mean_squared_error#:~:text=In%20statistics%2C%20the%20mean%20squared,values%20and%20the%20actual%20value.)) e sua raíz quadrada ([RMSE](https://en.wikipedia.org/wiki/Root-mean-square_deviation)), o erro absoluto médio [MAE](https://en.wikipedia.org/wiki/Mean_absolute_error)\n",
    "\n",
    "aplica os seguintes métodos para isso:\n",
    "\n",
    "- A biblioteca [`sklearn.metrics.mean_squared_error`](https://scikit-learn.org/stable/modules/generated/sklearn.metrics.mean_squared_error.html) para os cálculos dos erros;\n",
    "- O método [`mean_squared_error()`](https://scikit-learn.org/stable/modules/generated/sklearn.metrics.mean_squared_error.html) para o cálculo das perdas dos erros;\n",
    "- O método [`mean_absolute_error()`](https://scikit-learn.org/stable/modules/generated/sklearn.metrics.mean_absolute_error.html) para o cálculo do erro absoluto médio."
   ]
  },
  {
   "cell_type": "code",
   "execution_count": 40,
   "metadata": {},
   "outputs": [
    {
     "name": "stdout",
     "output_type": "stream",
     "text": [
      "165.1697948288975\n"
     ]
    }
   ],
   "source": [
    "# calculando o MSE em uma célula por SKLEARN\n",
    "from sklearn.metrics import mean_squared_error\n",
    "mse = mean_squared_error(y, yhat)\n",
    "print(mse)"
   ]
  },
  {
   "cell_type": "code",
   "execution_count": 43,
   "metadata": {},
   "outputs": [
    {
     "data": {
      "text/plain": [
       "12.851840133961264"
      ]
     },
     "execution_count": 43,
     "metadata": {},
     "output_type": "execute_result"
    }
   ],
   "source": [
    "# calcular o RMSE por SKLEARN\n",
    "np.sqrt(metrics.mean_squared_error(y, yhat))"
   ]
  },
  {
   "cell_type": "code",
   "execution_count": 44,
   "metadata": {},
   "outputs": [
    {
     "data": {
      "text/plain": [
       "10.38249019113676"
      ]
     },
     "execution_count": 44,
     "metadata": {},
     "output_type": "execute_result"
    }
   ],
   "source": [
    "# calculando MAE por SKLEARN\n",
    "metrics.mean_absolute_error(y, yhat)"
   ]
  },
  {
   "cell_type": "code",
   "execution_count": 46,
   "metadata": {},
   "outputs": [
    {
     "name": "stdout",
     "output_type": "stream",
     "text": [
      "mape = 148.82296669611407 %\n"
     ]
    }
   ],
   "source": [
    "# MAPE: Mean Absolute Percentage Error\n",
    "\n",
    "mape = 100 * np.mean(np.abs((y - yhat)/y))\n",
    "print('mape =',mape,'%')"
   ]
  },
  {
   "cell_type": "markdown",
   "metadata": {},
   "source": [
    "#### Você pode ainda plotar a distribuição dos erros em um histograma."
   ]
  },
  {
   "cell_type": "code",
   "execution_count": 48,
   "metadata": {},
   "outputs": [
    {
     "data": {
      "image/png": "[encoded data removed]",
      "text/plain": [
       "<Figure size 576x432 with 1 Axes>"
      ]
     },
     "metadata": {
      "needs_background": "light"
     },
     "output_type": "display_data"
    }
   ],
   "source": [
    "# Plotando a distribuição dos erros em um histograma\n",
    "\n",
    "plt.hist(y - yhat, bins = 15)\n",
    "plt.show()"
   ]
  },
  {
   "cell_type": "markdown",
   "metadata": {},
   "source": [
    "#### E também calcular a média dessa distribuição de erros e a distribuição dos resíduos como função dos índices dos dados gerados como um arranjo numpy [`np.arange()`](https://numpy.org/doc/stable/reference/generated/numpy.arange.html)."
   ]
  },
  {
   "cell_type": "code",
   "execution_count": 49,
   "metadata": {},
   "outputs": [
    {
     "data": {
      "text/plain": [
       "-0.8413173367214273"
      ]
     },
     "execution_count": 49,
     "metadata": {},
     "output_type": "execute_result"
    }
   ],
   "source": [
    "np.mean(y - yhat)"
   ]
  },
  {
   "cell_type": "code",
   "execution_count": 50,
   "metadata": {},
   "outputs": [
    {
     "data": {
      "text/plain": [
       "Text(0.5, 0, 'index')"
      ]
     },
     "execution_count": 50,
     "metadata": {},
     "output_type": "execute_result"
    },
    {
     "data": {
      "image/png": "[encoded data removed]",
      "text/plain": [
       "<Figure size 576x432 with 1 Axes>"
      ]
     },
     "metadata": {
      "needs_background": "light"
     },
     "output_type": "display_data"
    }
   ],
   "source": [
    "# Plotando a distribuição dos dados pelo respectivo erro em um gráfico de dispersão\n",
    "plt.scatter(np.arange(x.shape[0]), y - yhat)\n",
    "plt.ylabel('residuals')\n",
    "plt.xlabel('index')"
   ]
  },
  {
   "cell_type": "markdown",
   "metadata": {
    "colab_type": "text",
    "id": "jhCPxMNg2BGE"
   },
   "source": [
    "### <center> Que relacionamentos são observados?"
   ]
  },
  {
   "cell_type": "markdown",
   "metadata": {
    "colab_type": "text",
    "id": "beuShj7n2BGI"
   },
   "source": [
    "## 7. Acrescentamento de mais features"
   ]
  },
  {
   "cell_type": "markdown",
   "metadata": {},
   "source": [
    "#### Vamos agora adicionar mais atributos a nossa regressão linear. Para isso vamos criar uma lista `feature_cols` com os atributos `'temp'`, `'season'`, `'weather'`, `'humidity'`. "
   ]
  },
  {
   "cell_type": "code",
   "execution_count": 226,
   "metadata": {},
   "outputs": [],
   "source": [
    "# criamos lista de features\n",
    "feature_cols = ['temp', 'season', 'weather', 'humidity']"
   ]
  },
  {
   "cell_type": "markdown",
   "metadata": {
    "colab": {
     "autoexec": {
      "startup": false,
      "wait_interval": 0
     }
    },
    "colab_type": "code",
    "id": "Ap_eO91U2BGJ"
   },
   "source": [
    "####  <span style = \"color:red\">Código Original.</span>\n",
    "<!---\n",
    "# criamos lista de features\n",
    "feature_cols = ['temp', 'season', 'weather', 'humidity']\n",
    "-->"
   ]
  },
  {
   "cell_type": "markdown",
   "metadata": {},
   "source": [
    "#### Criaremos também o objeto `X` que receberá a lista de atributos `feature_cols` e o objeto `y` para receber o valor total de bikes alugadas.   "
   ]
  },
  {
   "cell_type": "code",
   "execution_count": 227,
   "metadata": {},
   "outputs": [],
   "source": [
    "# criamos novamente X e y\n",
    "X = bikes[feature_cols]\n",
    "y = bikes['total']"
   ]
  },
  {
   "cell_type": "markdown",
   "metadata": {
    "colab": {
     "autoexec": {
      "startup": false,
      "wait_interval": 0
     }
    },
    "colab_type": "code",
    "id": "oHsKqyIB2BGM"
   },
   "source": [
    "####  <span style = \"color:red\">Código Original.</span>\n",
    "<!---\n",
    "# criamos novamente X e y\n",
    "X = bikes[feature_cols]\n",
    "y = bikes['total']\n",
    "-->"
   ]
  },
  {
   "cell_type": "markdown",
   "metadata": {},
   "source": [
    "#### Aplicamos novamente a função `LinearRegression()` e ajustamos os dados com o método `.fit()`.  "
   ]
  },
  {
   "cell_type": "code",
   "execution_count": 228,
   "metadata": {},
   "outputs": [
    {
     "data": {
      "text/plain": [
       "LinearRegression(copy_X=True, fit_intercept=True, n_jobs=None, normalize=False)"
      ]
     },
     "execution_count": 228,
     "metadata": {},
     "output_type": "execute_result"
    }
   ],
   "source": [
    "# criamos o modelo e fitamos\n",
    "linreg = LinearRegression()\n",
    "linreg.fit(X, y)"
   ]
  },
  {
   "cell_type": "markdown",
   "metadata": {},
   "source": [
    "####  <span style = \"color:red\">Código Original.</span>\n",
    "<!---\n",
    "# criamos o modelo e fitamos\n",
    "linreg = LinearRegression()\n",
    "linreg.fit(X, y)\n",
    "-->"
   ]
  },
  {
   "cell_type": "markdown",
   "metadata": {},
   "source": [
    "#### E imprimimos os coeficientes de inclinação e de interceptação do eixo $y_{x=0}$. "
   ]
  },
  {
   "cell_type": "code",
   "execution_count": 229,
   "metadata": {},
   "outputs": [
    {
     "name": "stdout",
     "output_type": "stream",
     "text": [
      "159.52068786129817\n",
      "[ 7.86482499 22.53875753  6.67030204 -3.11887338]\n"
     ]
    }
   ],
   "source": [
    "# Imprimimos coeficientes\n",
    "print (linreg.intercept_)\n",
    "print (linreg.coef_)"
   ]
  },
  {
   "cell_type": "markdown",
   "metadata": {},
   "source": [
    "####  <span style = \"color:red\">Código Original.</span>\n",
    "<!---\n",
    "# Imprimimos coeficientes\n",
    "print (linreg.intercept_)\n",
    "print (linreg.coef_)\n",
    "-->"
   ]
  },
  {
   "cell_type": "markdown",
   "metadata": {},
   "source": [
    "#### Podemos preparar uma saída mais bem acabada para os coeficientes angulares, associado os objetos `feature_cols` e `linreg.coef_` através da função [`zip()`](https://docs.python.org/3/library/functions.html#zip).  "
   ]
  },
  {
   "cell_type": "code",
   "execution_count": 230,
   "metadata": {},
   "outputs": [
    {
     "data": {
      "text/plain": [
       "[('temp', 7.864824992477439),\n",
       " ('season', 22.53875753246676),\n",
       " ('weather', 6.670302035923719),\n",
       " ('humidity', -3.118873382396501)]"
      ]
     },
     "execution_count": 230,
     "metadata": {},
     "output_type": "execute_result"
    }
   ],
   "source": [
    "## para observar melhor, olhamos para o nome com o coeficiente\n",
    "list(zip(feature_cols, linreg.coef_))"
   ]
  },
  {
   "cell_type": "markdown",
   "metadata": {
    "colab": {
     "autoexec": {
      "startup": false,
      "wait_interval": 0
     }
    },
    "colab_type": "code",
    "id": "Wwu1IgiG2BGQ"
   },
   "source": [
    "####  <span style = \"color:red\">Código Original.</span>\n",
    "<!---\n",
    "## para observar melhor, olhamos para o nome com o coeficiente\n",
    "list(zip(feature_cols, linreg.coef_))\n",
    "-->"
   ]
  },
  {
   "cell_type": "markdown",
   "metadata": {},
   "source": [
    "### Como você interpreta os coeficientes angulares acima?"
   ]
  },
  {
   "cell_type": "markdown",
   "metadata": {
    "colab_type": "text",
    "id": "71CECv7b2BGT"
   },
   "source": [
    "####  <span style = \"color:red\">Código Original.</span>\n",
    "<!---\n",
    "Interpretação dos coeficientes:\n",
    "\n",
    "- Mantendo fixas todas as outras características, um incremento de 1 unidade ** na temperatura ** é ligado a um ** aumento de aluguéis de 7,86 bicicletas **.\n",
    "- Mantendo fixas todas as outras características, um incremento de 1 unidade em ** temporada ** é ligado a um ** aumento de aluguéis de 22,5 bicicletas **.\n",
    "- Mantendo fixas todas as outras categorias, um incremento de 1 unidade em ** tempo ** é ligado a um ** aumento de aluguéis de 6,67 bicicletas **.\n",
    "- Mantendo fixas todas as outras características, um incremento de 1 unidade em ** umidade ** é ligado a uma ** diminuição de aluguéis de 3,12 bicicletas **.\n",
    "-->"
   ]
  },
  {
   "cell_type": "markdown",
   "metadata": {
    "colab_type": "text",
    "id": "LX4ANE0v2BGU"
   },
   "source": [
    "## 8. Seleção de features\n",
    "\n",
    "#### Como escolhemos os features a incluir no modelo? Vamos usar os sets de [treinamento/teste](https://towardsdatascience.com/a-beginners-guide-to-linear-regression-in-python-with-scikit-learn-83a8f7ae2b4f)."
   ]
  },
  {
   "cell_type": "markdown",
   "metadata": {
    "colab_type": "text",
    "id": "1DkA0AHS2BGU"
   },
   "source": [
    "## 9. Métricas de avaliação para problemas de regressão\n",
    "\n",
    "#### As métricas de avaliação para problemas de classificação, como ** precisão **, não são úteis para problemas de regressão. Precisamos de métricas de avaliação arquitetadas para comparar ** valores contínuos **. Nas próximas aulas vamos aprofundar o trabalho sobre estas métricas e ver detalhes sobre sua implementação em `python`.\n",
    "\n",
    "#### Estas são três métricas de avaliação comuns para problemas de regressão:\n",
    "\n",
    "** O [erro absoluto médio](https://en.wikipedia.org/wiki/Mean_absolute_error) ** (MAE) é a média do valor absoluto dos erros:\n",
    "\n",
    "$$ \\frac 1n\\sum_ {i = 1}^n |y_i-\\hat{y}_i| $$\n",
    "\n",
    "** O [erro quadrático médio](https://en.wikipedia.org/wiki/Mean_squared_error) ** (MSE) é a média dos erros ao quadrado:\n",
    "\n",
    "$$ \\frac 1n\\sum_ {i = 1}^n(y_i- \\hat{y}_i)^2 $$\n",
    "\n",
    "** A [raiz do erro quadrático médio](https://en.wikipedia.org/wiki/Root-mean-square_deviation) ** (RMSE) é a raiz quadrada da média de erros ao quadrado:\n",
    "\n",
    "$$ \\sqrt{\\frac 1n\\sum_{i = 1}^n(y_i- \\hat{y}_i)^2} $$"
   ]
  },
  {
   "cell_type": "markdown",
   "metadata": {},
   "source": [
    "#### Vamos criar a seguir duas listas, uma com dados reais `[10, 7, 5, 5, 10, 8, 8, 15, 12]` e outra com dados  previstos `[12, 8, 3, 4, 12, 9, 8, 12, 13]` para os mesmos pontos."
   ]
  },
  {
   "cell_type": "code",
   "execution_count": 231,
   "metadata": {},
   "outputs": [],
   "source": [
    "# Exemplo de valores de resposta verdadeiros e previstos\n",
    "true = [10, 7, 5, 5, 10, 8, 8, 15, 12]\n",
    "pred = [12, 8, 3, 4, 12, 9, 8, 12, 13]"
   ]
  },
  {
   "cell_type": "markdown",
   "metadata": {
    "colab": {
     "autoexec": {
      "startup": false,
      "wait_interval": 0
     }
    },
    "colab_type": "code",
    "id": "0iQYdv-d2BGV"
   },
   "source": [
    "####  <span style = \"color:red\">Código Original.</span>\n",
    "<!---\n",
    "# Exemplo de valores de resposta verdadeiros e previstos\n",
    "true = [10, 7, 5, 5, 10, 8, 8, 15, 12]\n",
    "pred = [12, 8, 3, 4, 12, 9, 8, 12, 13]\n",
    "-->"
   ]
  },
  {
   "cell_type": "markdown",
   "metadata": {},
   "source": [
    "#### Agora calculamos as valores para `MAE`, `MSE` e `RMSE`. Para isso vamos importar a classe de funções  [´sklearn.metrics´](https://scikit-learn.org/stable/modules/model_evaluation.html) e aplciar os métodos  [`.mean_absolute_error()`](https://scikit-learn.org/stable/modules/generated/sklearn.metrics.mean_absolute_error.html#sklearn.metrics.mean_absolute_error),  [`.mean_squared_error()`](https://scikit-learn.org/stable/modules/generated/sklearn.metrics.mean_squared_error.html#sklearn.metrics.mean_squared_error) e [`np.sqrt()`](https://numpy.org/doc/stable/reference/generated/numpy.sqrt.html), respectivamente. \n",
    "\n",
    "#### Vamos também calcular o valor de $R^{2}$, com a ajuda do método [`.r2_score`](https://scikit-learn.org/stable/modules/generated/sklearn.metrics.r2_score.html). Essa é uma quantidade estatística que fornece algumas informações sobre a qualidade do ajuste do modelo. Na regressão, o coeficiente de determinação $R^{2}$ é uma medida estatística de quão bem as previsões de regressão se aproximam dos pontos de dados reais. Um $R^{2} = 1$ indica que as previsões de regressão se encaixam perfeitamente nos dados."
   ]
  },
  {
   "cell_type": "code",
   "execution_count": 232,
   "metadata": {},
   "outputs": [
    {
     "name": "stdout",
     "output_type": "stream",
     "text": [
      "MAE: 1.4444444444444444\n",
      "MSE: 2.7777777777777777\n",
      "RMSE: 1.6666666666666667\n",
      "R2: 0.7054973821989529\n"
     ]
    }
   ],
   "source": [
    "# Calculamos métricas manualmente? É claro que não!\n",
    "from sklearn import metrics\n",
    "import numpy as np\n",
    "print ('MAE:', metrics.mean_absolute_error(true, pred))\n",
    "print ('MSE:', metrics.mean_squared_error(true, pred))\n",
    "print ('RMSE:', np.sqrt(metrics.mean_squared_error(true, pred)))\n",
    "print ('R2:', metrics.r2_score(true, pred))"
   ]
  },
  {
   "cell_type": "markdown",
   "metadata": {
    "colab": {
     "autoexec": {
      "startup": false,
      "wait_interval": 0
     }
    },
    "colab_type": "code",
    "id": "O3sb_bRZ2BGY"
   },
   "source": [
    "####  <span style = \"color:red\">Código Original.</span>\n",
    "<!---\n",
    "# Calculamos métricas manualmente? É claro que não!\n",
    "from sklearn import metrics\n",
    "import numpy as np\n",
    "print ('MAE:', metrics.mean_absolute_error(true, pred))\n",
    "print ('MSE:', metrics.mean_squared_error(true, pred))\n",
    "print ('RMSE:', np.sqrt(metrics.mean_squared_error(true, pred)))\n",
    "print ('R2:', metrics.r2_score(true, pred))\n",
    "-->"
   ]
  },
  {
   "cell_type": "markdown",
   "metadata": {
    "colab_type": "text",
    "id": "RfhOniRU2BGa"
   },
   "source": [
    "#### Comparando estas métricas:\n",
    "\n",
    "- `MAE` é o mais fácil de entender, porque é o erro médio.\n",
    "- `MSE` é mais popular que `MAE`, porque `MSE` “penaliza” grandes erros, e isso tende a ser útil no mundo real.\n",
    "- `RMSE` é ainda mais popular que `MSE`, porque `RMSE` é interpretável nas unidades de `y`.\n",
    "- `R^2` é a proporção da variância total de $Y$ explicada pelo modelo.\n",
    "\n",
    "#### Todas elas são ** funções de perda **, porque nós queremos minimizá-las.\n",
    "\n",
    "#### Exemplo adicional, para conferir como `MSE` / `RMSE` penalizam mais os maiores erros:"
   ]
  },
  {
   "cell_type": "code",
   "execution_count": 233,
   "metadata": {},
   "outputs": [
    {
     "name": "stdout",
     "output_type": "stream",
     "text": [
      "MAE: 1.8888888888888888\n",
      "MSE: 7.222222222222222\n",
      "RMSE: 2.6874192494328497\n",
      "R2: 0.23429319371727741\n"
     ]
    }
   ],
   "source": [
    "# com os mesmos valores de antes para true\n",
    "true = [10, 7, 5, 5, 10, 8, 8, 15, 12]\n",
    "\n",
    "# novo set de valores para a previsão\n",
    "pred = [12, 8, 3, 4, 12, 9, 8, 22, 13]\n",
    "\n",
    "# MAE aumenta um pouco\n",
    "print ('MAE:', metrics.mean_absolute_error(true, pred))\n",
    "\n",
    "# MSE e RMSE são maiores do que antes. Por sua vez, R2 piora seu desempenho.\n",
    "print ('MSE:', metrics.mean_squared_error(true, pred))\n",
    "print ('RMSE:', np.sqrt(metrics.mean_squared_error(true, pred)))\n",
    "print ('R2:', metrics.r2_score(true, pred))"
   ]
  },
  {
   "cell_type": "markdown",
   "metadata": {
    "colab_type": "text",
    "id": "5avdxVFx2BGd"
   },
   "source": [
    "## 10. Comparação de modelos usando sets de treinamento/teste e RMSE"
   ]
  },
  {
   "cell_type": "markdown",
   "metadata": {},
   "source": [
    "#### Podemos também realizar testes de precição em nosso modelo. Para isso vamos importar a classe de funções [`sklearn.model_selection.train_test_split`](https://scikit-learn.org/stable/modules/generated/sklearn.model_selection.train_test_split.html)\n",
    "\n",
    "#### Para agilizar o processo, podemos definir uma função particular `train_test_rmse()` que receba o objeto `feature_cols` com os atributos escolhidos, os objetos `X` e `y` para receber a lista de atributos e o targe de nosso modelo. Fazendo uso da função [´train_test_split()´](https://scikit-learn.org/stable/modules/generated/sklearn.model_selection.train_test_split.html) podemos subdivir nosso dataset entre os objetos `X_train`, `X_test`, `y_train` e `y_test` para o processo de treino/teste de nosso modelo. Você pode entender melhor o processo de embaralhamento dos dados estudando o parâmetro [`random_state`](https://scikit-learn.org/stable/glossary.html#term-random-state).\n",
    "\n",
    "#### Por fim, a função que definimos pode instanciar uma regressão com o objeto `linreg` e a função [`LinearRegression()`](), ajustar os pontos aos subconjuntos de treino `X_train` e `y_train`, usando o método `.fit()`, predizer valores de target com o método  `.predict()` e retornar o `RMSE` calculado.  "
   ]
  },
  {
   "cell_type": "code",
   "execution_count": 234,
   "metadata": {},
   "outputs": [],
   "source": [
    "from sklearn.model_selection import train_test_split\n",
    "\n",
    "# Definimos uma função que aceita uma lista de features e retorna a prova RMSE\n",
    "def train_test_rmse(feature_cols):\n",
    "    X = bikes[feature_cols]\n",
    "    y = bikes.total\n",
    "    X_train, X_test, y_train, y_test = train_test_split(X, \n",
    "                                                        y, \n",
    "                                                        random_state = 123\n",
    "                                                       )\n",
    "    linreg = LinearRegression()\n",
    "    linreg.fit(X_train, y_train)\n",
    "    y_pred = linreg.predict(X_test)\n",
    "    return np.sqrt(metrics.mean_squared_error(y_test, y_pred))"
   ]
  },
  {
   "cell_type": "markdown",
   "metadata": {
    "colab": {
     "autoexec": {
      "startup": false,
      "wait_interval": 0
     }
    },
    "colab_type": "code",
    "id": "5jyhNvMW2BGe"
   },
   "source": [
    "####  <span style = \"color:red\">Código Original.</span>\n",
    "<!---\n",
    "from sklearn.model_selection import train_test_split\n",
    "\n",
    "# Definimos uma função que aceita uma lista de features e retorna a prova RMSE\n",
    "def train_test_rmse(feature_cols):\n",
    "    X = bikes[feature_cols]\n",
    "    y = bikes.total\n",
    "    X_train, X_test, y_train, y_test = train_test_split(X, \n",
    "                                                        y, \n",
    "                                                        random_state = 123\n",
    "                                                       )\n",
    "    linreg = LinearRegression()\n",
    "    linreg.fit(X_train, y_train)\n",
    "    y_pred = linreg.predict(X_test)\n",
    "    return np.sqrt(metrics.mean_squared_error(y_test, y_pred))\n",
    "-->"
   ]
  },
  {
   "cell_type": "markdown",
   "metadata": {},
   "source": [
    "#### A seguir podemos imprimir as saídas de `train_test_rmse()` para resultados de coleções diversas de atributos modelados. Vamos testar nosso modelo para as seguintes combinações de `feature_cols`: \n",
    "\n",
    "- ['temp', 'season', 'weather', 'humidity']\n",
    "- ['temp', 'season', 'weather']\n",
    "- ['temp', 'season', 'humidity']"
   ]
  },
  {
   "cell_type": "code",
   "execution_count": 235,
   "metadata": {},
   "outputs": [
    {
     "name": "stdout",
     "output_type": "stream",
     "text": [
      "155.64945913079674\n",
      "164.1653997629182\n",
      "155.59818936691417\n"
     ]
    }
   ],
   "source": [
    "# comparamos diferentes ensamblagens de features\n",
    "print (train_test_rmse(['temp', 'season', 'weather', 'humidity']))\n",
    "print (train_test_rmse(['temp', 'season', 'weather']))\n",
    "print (train_test_rmse(['temp', 'season', 'humidity']))"
   ]
  },
  {
   "cell_type": "markdown",
   "metadata": {
    "colab": {
     "autoexec": {
      "startup": false,
      "wait_interval": 0
     }
    },
    "colab_type": "code",
    "id": "U5JWVDNq2BGg"
   },
   "source": [
    "####  <span style = \"color:red\">Código Original.</span>\n",
    "<!---\n",
    "# comparamos diferentes ensamblagens de features\n",
    "print (train_test_rmse(['temp', 'season', 'weather', 'humidity']))\n",
    "print (train_test_rmse(['temp', 'season', 'weather']))\n",
    "print (train_test_rmse(['temp', 'season', 'humidity']))\n",
    "-->"
   ]
  },
  {
   "cell_type": "markdown",
   "metadata": {},
   "source": [
    "#### É importante entender os atributos que compõem o dataset e excluir da modelização atributos que não geram impacto no entendimento dos fenômenos. Poderíamos testar nossa função modelizadora com os atributos `'casual'` e `'registered'`. \n",
    "\n",
    "#### A quantidade total de bicicletas emprestadas é definida como a adição de bicicletas emprestadas a usuários casuais e registrados. Não faz sentido nenhum fazer um modelo disso e é por esse relacionamento tão direto que as métricas de erro são baixíssimas.\n",
    "\n",
    "#### Tente rodar nossa função de modelização para essas quantidades."
   ]
  },
  {
   "cell_type": "code",
   "execution_count": 236,
   "metadata": {},
   "outputs": [
    {
     "name": "stdout",
     "output_type": "stream",
     "text": [
      "6.465079976076669e-14\n"
     ]
    }
   ],
   "source": [
    "print (train_test_rmse(['casual', 'registered']))"
   ]
  },
  {
   "cell_type": "markdown",
   "metadata": {
    "colab": {
     "autoexec": {
      "startup": false,
      "wait_interval": 0
     }
    },
    "colab_type": "code",
    "id": "zusz5vqT2BGj"
   },
   "source": [
    "####  <span style = \"color:red\">Código Original.</span>\n",
    "<!---\n",
    "print (train_test_rmse(['casual', 'registered']))\n",
    "-->"
   ]
  },
  {
   "cell_type": "markdown",
   "metadata": {},
   "source": [
    "#### Usando o método [`np.all()`](https://numpy.org/doc/stable/reference/generated/numpy.all.html) podemos testar se todos os elementos do dataset respeitam a relação que discutimos na célula anterior."
   ]
  },
  {
   "cell_type": "code",
   "execution_count": 237,
   "metadata": {},
   "outputs": [
    {
     "data": {
      "text/plain": [
       "True"
      ]
     },
     "execution_count": 237,
     "metadata": {},
     "output_type": "execute_result"
    }
   ],
   "source": [
    "# Conferimos que as colunas sejam perfeitamente dependentes.\n",
    "np.all(bikes['casual'] + bikes['registered'] == bikes['total'])"
   ]
  },
  {
   "cell_type": "markdown",
   "metadata": {
    "colab": {
     "autoexec": {
      "startup": false,
      "wait_interval": 0
     }
    },
    "colab_type": "code",
    "id": "7pedi1Q42BGm"
   },
   "source": [
    "####  <span style = \"color:red\">Código Original.</span>\n",
    "<!---\n",
    "# Conferimos que as colunas sejam perfeitamente dependentes.\n",
    "np.all(bikes['casual'] + bikes['registered'] == bikes['total'])\n",
    "-->"
   ]
  },
  {
   "cell_type": "markdown",
   "metadata": {
    "colab_type": "text",
    "id": "4e44lsAW2BGo"
   },
   "source": [
    "### 10.1 Comparar RMSE de com RMSE nulo (baseline)"
   ]
  },
  {
   "cell_type": "markdown",
   "metadata": {},
   "source": [
    "#### Podemos estudar o `RMSE` fazendo a comparação de um subconjunto de teste e um arranjo com valores médios do conjunto de teste. \n",
    "\n",
    "#### Para isso vamos usar a função `train_test_split()` para subdividir nosso dataset e o método [`np.zeros_like()`](https://numpy.org/doc/stable/reference/generated/numpy.zeros_like.html) para retornar um arranjo de zeros com a mesma forma e tipo que o arranjo especificado.\n",
    "\n",
    "#### Por fim vamos preencher os valores com a média do conjunto de teste, usando o método [`np.fill()`](https://numpy.org/doc/stable/reference/generated/numpy.ndarray.fill.html)."
   ]
  },
  {
   "cell_type": "code",
   "execution_count": 238,
   "metadata": {},
   "outputs": [
    {
     "name": "stdout",
     "output_type": "stream",
     "text": [
      "[192.26451139 192.26451139 192.26451139 ... 192.26451139 192.26451139\n",
      " 192.26451139]\n"
     ]
    }
   ],
   "source": [
    "# Definimos X e y para os sets de treinamento e teste\n",
    "X_train, X_test, y_train, y_test = train_test_split(X, \n",
    "                                                    y, \n",
    "                                                    random_state = 123\n",
    "                                                   )\n",
    "\n",
    "# criamos um array numpy com a mesma forma que y_test\n",
    "\n",
    "y_null = np.zeros_like(y_test, \n",
    "                       dtype = float\n",
    "                      )\n",
    "\n",
    "# preenchemos o array com o valor médio de y_test\n",
    "\n",
    "y_null.fill(y_test.mean())\n",
    "print(y_null)"
   ]
  },
  {
   "cell_type": "markdown",
   "metadata": {
    "colab": {
     "autoexec": {
      "startup": false,
      "wait_interval": 0
     }
    },
    "colab_type": "code",
    "id": "wi5-AuLm2BGu"
   },
   "source": [
    "####  <span style = \"color:red\">Código Original.</span>\n",
    "<!---\n",
    "# Definimos X e y para os sets de treinamento e teste\n",
    "X_train, X_test, y_train, y_test = train_test_split(X, \n",
    "                                                    y, \n",
    "                                                    random_state = 123\n",
    "                                                   )\n",
    "\n",
    "# criamos um array numpy com a mesma forma que y_test\n",
    "\n",
    "y_null = np.zeros_like(y_test, \n",
    "                       dtype = float\n",
    "                      )\n",
    "\n",
    "# preenchemos o array com o valor médio de y_test\n",
    "\n",
    "y_null.fill(y_test.mean())\n",
    "print(y_null)\n",
    "-->"
   ]
  },
  {
   "cell_type": "markdown",
   "metadata": {},
   "source": [
    "#### Calculamos agora o valor de `RMSE` para os valores do subconjunto de teste  e o baseline de valores médios do subconjunto de teste."
   ]
  },
  {
   "cell_type": "code",
   "execution_count": 239,
   "metadata": {},
   "outputs": [
    {
     "data": {
      "text/plain": [
       "179.57906896465727"
      ]
     },
     "execution_count": 239,
     "metadata": {},
     "output_type": "execute_result"
    }
   ],
   "source": [
    "# calculamos RMSE\n",
    "np.sqrt(metrics.mean_squared_error(y_test, y_null))"
   ]
  },
  {
   "cell_type": "markdown",
   "metadata": {
    "colab": {
     "autoexec": {
      "startup": false,
      "wait_interval": 0
     }
    },
    "colab_type": "code",
    "id": "Kxc9n9kZ2BGw"
   },
   "source": [
    "####  <span style = \"color:red\">Código Original.</span>\n",
    "<!---\n",
    "# calculamos RMSE\n",
    "np.sqrt(metrics.mean_squared_error(y_test, y_null))\n",
    "-->"
   ]
  },
  {
   "cell_type": "markdown",
   "metadata": {
    "colab_type": "text",
    "id": "_qx7PnFf2BGz"
   },
   "source": [
    "## 11. Gestão de características categóricas\n",
    "\n",
    "#### A biblioteca `Scikit-learn` espera que todas as funções sejam numéricas. Então, como incluir uma característica categórica no nosso modelo?\n",
    "\n",
    "#### Categorias ordenadas: Transformar em valores numéricos sensíveis, por exemplo: \n",
    "\n",
    "- pequeno = 1; \n",
    "- médio = 2; \n",
    "- grande = 3. \n",
    "\n",
    "\n",
    "####  Categorias não ordenadas: Utilizar codificação fictícia:\n",
    "\n",
    "- (0/1) (Variáveis dummies).\n",
    "\n",
    "#### Quais as características categóricas do nosso conjunto de dados?\n",
    "\n",
    "- Categorias ordenadas: weather (já codificado com valores numéricos sensíveis)\n",
    "- Categorias não ordenadas: season (precisa de variáveis dummy), holiday (já está codificada como dummy), workingday (já está codificada como dummy)\n",
    "\n",
    "\n",
    "#### Para a temporada, não podemos deixar só a codificação como `1 = primavera`, `2 = verão`, `3 = outono` e `4 = inverno`, porque isso sinalizaria um relacionamento ordenado. Em vez disso, criamos  variáveis dummies múltiplas."
   ]
  },
  {
   "cell_type": "markdown",
   "metadata": {},
   "source": [
    "#### Aplique os métodos [`.get_dummies()`](https://pandas.pydata.org/pandas-docs/stable/reference/api/pandas.get_dummies.html) para converter as variáveis categóricas de `season` em variáveis dummy / indicador. \n",
    "\n",
    "#### Observe o parâmetro `prefix = 'season'` para manter os valores numéricos das estações como headers.\n",
    "\n",
    "#### Depois disso aplique o método [`.sample()` ](https://pandas.pydata.org/pandas-docs/stable/reference/api/pandas.DataFrame.sample.html) para separar uma amostra aleatória de observações. O parâmetro `n` trás o número de itens na amostral e `random_state = 1` define uma semente para o gerador de números aleatórios. "
   ]
  },
  {
   "cell_type": "code",
   "execution_count": 240,
   "metadata": {},
   "outputs": [
    {
     "data": {
      "text/html": [
       "<div>\n",
       "<style scoped>\n",
       "    .dataframe tbody tr th:only-of-type {\n",
       "        vertical-align: middle;\n",
       "    }\n",
       "\n",
       "    .dataframe tbody tr th {\n",
       "        vertical-align: top;\n",
       "    }\n",
       "\n",
       "    .dataframe thead th {\n",
       "        text-align: right;\n",
       "    }\n",
       "</style>\n",
       "<table border=\"1\" class=\"dataframe\">\n",
       "  <thead>\n",
       "    <tr style=\"text-align: right;\">\n",
       "      <th></th>\n",
       "      <th>season_1</th>\n",
       "      <th>season_2</th>\n",
       "      <th>season_3</th>\n",
       "      <th>season_4</th>\n",
       "    </tr>\n",
       "    <tr>\n",
       "      <th>datetime</th>\n",
       "      <th></th>\n",
       "      <th></th>\n",
       "      <th></th>\n",
       "      <th></th>\n",
       "    </tr>\n",
       "  </thead>\n",
       "  <tbody>\n",
       "    <tr>\n",
       "      <th>2011-09-05 11:00:00</th>\n",
       "      <td>0</td>\n",
       "      <td>0</td>\n",
       "      <td>1</td>\n",
       "      <td>0</td>\n",
       "    </tr>\n",
       "    <tr>\n",
       "      <th>2012-03-18 04:00:00</th>\n",
       "      <td>1</td>\n",
       "      <td>0</td>\n",
       "      <td>0</td>\n",
       "      <td>0</td>\n",
       "    </tr>\n",
       "    <tr>\n",
       "      <th>2012-10-14 17:00:00</th>\n",
       "      <td>0</td>\n",
       "      <td>0</td>\n",
       "      <td>0</td>\n",
       "      <td>1</td>\n",
       "    </tr>\n",
       "    <tr>\n",
       "      <th>2011-04-04 15:00:00</th>\n",
       "      <td>0</td>\n",
       "      <td>1</td>\n",
       "      <td>0</td>\n",
       "      <td>0</td>\n",
       "    </tr>\n",
       "    <tr>\n",
       "      <th>2012-12-11 02:00:00</th>\n",
       "      <td>0</td>\n",
       "      <td>0</td>\n",
       "      <td>0</td>\n",
       "      <td>1</td>\n",
       "    </tr>\n",
       "  </tbody>\n",
       "</table>\n",
       "</div>"
      ],
      "text/plain": [
       "                     season_1  season_2  season_3  season_4\n",
       "datetime                                                   \n",
       "2011-09-05 11:00:00         0         0         1         0\n",
       "2012-03-18 04:00:00         1         0         0         0\n",
       "2012-10-14 17:00:00         0         0         0         1\n",
       "2011-04-04 15:00:00         0         1         0         0\n",
       "2012-12-11 02:00:00         0         0         0         1"
      ]
     },
     "execution_count": 240,
     "metadata": {},
     "output_type": "execute_result"
    }
   ],
   "source": [
    "# criar variáveis dummies\n",
    "season_dummies = pd.get_dummies(bikes['season'], \n",
    "                                prefix = 'season'\n",
    "                               )\n",
    "\n",
    "# imprimimos para ver 5 linhas quaisquer\n",
    "season_dummies.sample(n = 5, \n",
    "                      random_state = 1\n",
    "                     )"
   ]
  },
  {
   "cell_type": "markdown",
   "metadata": {
    "colab": {
     "autoexec": {
      "startup": false,
      "wait_interval": 0
     }
    },
    "colab_type": "code",
    "id": "QP-h1iRc2BG0"
   },
   "source": [
    "####  <span style = \"color:red\">Código Original.</span>\n",
    "<!---\n",
    "# criar variáveis dummies\n",
    "season_dummies = pd.get_dummies(bikes['season'], \n",
    "                                prefix = 'season'\n",
    "                               )\n",
    "\n",
    "# imprimimos para ver 5 linhas quaisquer\n",
    "season_dummies.sample(n = 5, \n",
    "                      random_state = 1\n",
    "                     )\n",
    "-->"
   ]
  },
  {
   "cell_type": "markdown",
   "metadata": {
    "colab_type": "text",
    "id": "rQyWVuUX2BG1"
   },
   "source": [
    "#### Contudo, já vimos que na verdade só precisamos de  três variáveis dummies, não quatro. Portanto vamos eliminar a primeira variável dummy. Para isso usamos o método [`.drop()`](https://pandas.pydata.org/pandas-docs/stable/reference/api/pandas.DataFrame.drop.html), atentando apara os parâmetros `axis = 1`,`inplace = True`.\n",
    "\n",
    "#### Depois podemos gerar uma nova amostra."
   ]
  },
  {
   "cell_type": "code",
   "execution_count": 241,
   "metadata": {},
   "outputs": [
    {
     "data": {
      "text/html": [
       "<div>\n",
       "<style scoped>\n",
       "    .dataframe tbody tr th:only-of-type {\n",
       "        vertical-align: middle;\n",
       "    }\n",
       "\n",
       "    .dataframe tbody tr th {\n",
       "        vertical-align: top;\n",
       "    }\n",
       "\n",
       "    .dataframe thead th {\n",
       "        text-align: right;\n",
       "    }\n",
       "</style>\n",
       "<table border=\"1\" class=\"dataframe\">\n",
       "  <thead>\n",
       "    <tr style=\"text-align: right;\">\n",
       "      <th></th>\n",
       "      <th>season_2</th>\n",
       "      <th>season_3</th>\n",
       "      <th>season_4</th>\n",
       "    </tr>\n",
       "    <tr>\n",
       "      <th>datetime</th>\n",
       "      <th></th>\n",
       "      <th></th>\n",
       "      <th></th>\n",
       "    </tr>\n",
       "  </thead>\n",
       "  <tbody>\n",
       "    <tr>\n",
       "      <th>2011-09-05 11:00:00</th>\n",
       "      <td>0</td>\n",
       "      <td>1</td>\n",
       "      <td>0</td>\n",
       "    </tr>\n",
       "    <tr>\n",
       "      <th>2012-03-18 04:00:00</th>\n",
       "      <td>0</td>\n",
       "      <td>0</td>\n",
       "      <td>0</td>\n",
       "    </tr>\n",
       "    <tr>\n",
       "      <th>2012-10-14 17:00:00</th>\n",
       "      <td>0</td>\n",
       "      <td>0</td>\n",
       "      <td>1</td>\n",
       "    </tr>\n",
       "    <tr>\n",
       "      <th>2011-04-04 15:00:00</th>\n",
       "      <td>1</td>\n",
       "      <td>0</td>\n",
       "      <td>0</td>\n",
       "    </tr>\n",
       "    <tr>\n",
       "      <th>2012-12-11 02:00:00</th>\n",
       "      <td>0</td>\n",
       "      <td>0</td>\n",
       "      <td>1</td>\n",
       "    </tr>\n",
       "  </tbody>\n",
       "</table>\n",
       "</div>"
      ],
      "text/plain": [
       "                     season_2  season_3  season_4\n",
       "datetime                                         \n",
       "2011-09-05 11:00:00         0         1         0\n",
       "2012-03-18 04:00:00         0         0         0\n",
       "2012-10-14 17:00:00         0         0         1\n",
       "2011-04-04 15:00:00         1         0         0\n",
       "2012-12-11 02:00:00         0         0         1"
      ]
     },
     "execution_count": 241,
     "metadata": {},
     "output_type": "execute_result"
    }
   ],
   "source": [
    "# Pulamos a primeira coluna\n",
    "season_dummies.drop(season_dummies.columns[0], \n",
    "                    axis = 1, \n",
    "                    inplace = True\n",
    "                   )\n",
    "\n",
    "# imprimimos 5 linhas quaisquer\n",
    "season_dummies.sample(n=5, \n",
    "                      random_state = 1\n",
    "                     )"
   ]
  },
  {
   "cell_type": "markdown",
   "metadata": {
    "colab": {
     "autoexec": {
      "startup": false,
      "wait_interval": 0
     }
    },
    "colab_type": "code",
    "id": "Ja2_bxQ-2BG-"
   },
   "source": [
    "####  <span style = \"color:red\">Código Original.</span>\n",
    "<!---\n",
    "# Pulamos a primeira coluna\n",
    "season_dummies.drop(season_dummies.columns[0], \n",
    "                    axis = 1, \n",
    "                    inplace = True\n",
    "                   )\n",
    "\n",
    "# imprimimos 5 linhas quaisquer\n",
    "season_dummies.sample(n=5, \n",
    "                      random_state = 1\n",
    "                     )\n",
    "-->"
   ]
  },
  {
   "cell_type": "markdown",
   "metadata": {
    "colab_type": "text",
    "id": "-i0FqMcI2BHB"
   },
   "source": [
    "#### No geral, se houver uma feature categórica com `k` valores possíveis, é preciso criar `k-1` variáveis fictícias."
   ]
  },
  {
   "cell_type": "markdown",
   "metadata": {},
   "source": [
    "#### Agora vamos concatenar os dataframes `bikes` e `season_dummies`, usando o método [`.concat()` ](https://pandas.pydata.org/pandas-docs/stable/reference/api/pandas.concat.html?highlight=concat#pandas.concat) ao longo do eixo `1`. \n",
    "\n",
    "#### E depois geramos mais uma amostra de cinco observações."
   ]
  },
  {
   "cell_type": "code",
   "execution_count": 242,
   "metadata": {},
   "outputs": [
    {
     "data": {
      "text/html": [
       "<div>\n",
       "<style scoped>\n",
       "    .dataframe tbody tr th:only-of-type {\n",
       "        vertical-align: middle;\n",
       "    }\n",
       "\n",
       "    .dataframe tbody tr th {\n",
       "        vertical-align: top;\n",
       "    }\n",
       "\n",
       "    .dataframe thead th {\n",
       "        text-align: right;\n",
       "    }\n",
       "</style>\n",
       "<table border=\"1\" class=\"dataframe\">\n",
       "  <thead>\n",
       "    <tr style=\"text-align: right;\">\n",
       "      <th></th>\n",
       "      <th>season</th>\n",
       "      <th>holiday</th>\n",
       "      <th>workingday</th>\n",
       "      <th>weather</th>\n",
       "      <th>temp</th>\n",
       "      <th>atemp</th>\n",
       "      <th>humidity</th>\n",
       "      <th>windspeed</th>\n",
       "      <th>casual</th>\n",
       "      <th>registered</th>\n",
       "      <th>total</th>\n",
       "      <th>season_2</th>\n",
       "      <th>season_3</th>\n",
       "      <th>season_4</th>\n",
       "    </tr>\n",
       "    <tr>\n",
       "      <th>datetime</th>\n",
       "      <th></th>\n",
       "      <th></th>\n",
       "      <th></th>\n",
       "      <th></th>\n",
       "      <th></th>\n",
       "      <th></th>\n",
       "      <th></th>\n",
       "      <th></th>\n",
       "      <th></th>\n",
       "      <th></th>\n",
       "      <th></th>\n",
       "      <th></th>\n",
       "      <th></th>\n",
       "      <th></th>\n",
       "    </tr>\n",
       "  </thead>\n",
       "  <tbody>\n",
       "    <tr>\n",
       "      <th>2011-09-05 11:00:00</th>\n",
       "      <td>3</td>\n",
       "      <td>1</td>\n",
       "      <td>0</td>\n",
       "      <td>2</td>\n",
       "      <td>28.70</td>\n",
       "      <td>33.335</td>\n",
       "      <td>74</td>\n",
       "      <td>11.0014</td>\n",
       "      <td>101</td>\n",
       "      <td>207</td>\n",
       "      <td>308</td>\n",
       "      <td>0</td>\n",
       "      <td>1</td>\n",
       "      <td>0</td>\n",
       "    </tr>\n",
       "    <tr>\n",
       "      <th>2012-03-18 04:00:00</th>\n",
       "      <td>1</td>\n",
       "      <td>0</td>\n",
       "      <td>0</td>\n",
       "      <td>2</td>\n",
       "      <td>17.22</td>\n",
       "      <td>21.210</td>\n",
       "      <td>94</td>\n",
       "      <td>11.0014</td>\n",
       "      <td>6</td>\n",
       "      <td>8</td>\n",
       "      <td>14</td>\n",
       "      <td>0</td>\n",
       "      <td>0</td>\n",
       "      <td>0</td>\n",
       "    </tr>\n",
       "    <tr>\n",
       "      <th>2012-10-14 17:00:00</th>\n",
       "      <td>4</td>\n",
       "      <td>0</td>\n",
       "      <td>0</td>\n",
       "      <td>1</td>\n",
       "      <td>26.24</td>\n",
       "      <td>31.060</td>\n",
       "      <td>44</td>\n",
       "      <td>12.9980</td>\n",
       "      <td>193</td>\n",
       "      <td>346</td>\n",
       "      <td>539</td>\n",
       "      <td>0</td>\n",
       "      <td>0</td>\n",
       "      <td>1</td>\n",
       "    </tr>\n",
       "    <tr>\n",
       "      <th>2011-04-04 15:00:00</th>\n",
       "      <td>2</td>\n",
       "      <td>0</td>\n",
       "      <td>1</td>\n",
       "      <td>1</td>\n",
       "      <td>31.16</td>\n",
       "      <td>33.335</td>\n",
       "      <td>23</td>\n",
       "      <td>36.9974</td>\n",
       "      <td>47</td>\n",
       "      <td>96</td>\n",
       "      <td>143</td>\n",
       "      <td>1</td>\n",
       "      <td>0</td>\n",
       "      <td>0</td>\n",
       "    </tr>\n",
       "    <tr>\n",
       "      <th>2012-12-11 02:00:00</th>\n",
       "      <td>4</td>\n",
       "      <td>0</td>\n",
       "      <td>1</td>\n",
       "      <td>2</td>\n",
       "      <td>16.40</td>\n",
       "      <td>20.455</td>\n",
       "      <td>66</td>\n",
       "      <td>22.0028</td>\n",
       "      <td>0</td>\n",
       "      <td>1</td>\n",
       "      <td>1</td>\n",
       "      <td>0</td>\n",
       "      <td>0</td>\n",
       "      <td>1</td>\n",
       "    </tr>\n",
       "  </tbody>\n",
       "</table>\n",
       "</div>"
      ],
      "text/plain": [
       "                     season  holiday  workingday  weather   temp   atemp  \\\n",
       "datetime                                                                   \n",
       "2011-09-05 11:00:00       3        1           0        2  28.70  33.335   \n",
       "2012-03-18 04:00:00       1        0           0        2  17.22  21.210   \n",
       "2012-10-14 17:00:00       4        0           0        1  26.24  31.060   \n",
       "2011-04-04 15:00:00       2        0           1        1  31.16  33.335   \n",
       "2012-12-11 02:00:00       4        0           1        2  16.40  20.455   \n",
       "\n",
       "                     humidity  windspeed  casual  registered  total  season_2  \\\n",
       "datetime                                                                        \n",
       "2011-09-05 11:00:00        74    11.0014     101         207    308         0   \n",
       "2012-03-18 04:00:00        94    11.0014       6           8     14         0   \n",
       "2012-10-14 17:00:00        44    12.9980     193         346    539         0   \n",
       "2011-04-04 15:00:00        23    36.9974      47          96    143         1   \n",
       "2012-12-11 02:00:00        66    22.0028       0           1      1         0   \n",
       "\n",
       "                     season_3  season_4  \n",
       "datetime                                 \n",
       "2011-09-05 11:00:00         1         0  \n",
       "2012-03-18 04:00:00         0         0  \n",
       "2012-10-14 17:00:00         0         1  \n",
       "2011-04-04 15:00:00         0         0  \n",
       "2012-12-11 02:00:00         0         1  "
      ]
     },
     "execution_count": 242,
     "metadata": {},
     "output_type": "execute_result"
    }
   ],
   "source": [
    "# Concatenar o DataFrame original e o dummy DataFrame (axis = 0 significa linhas, axis = 1 significa colunas)\n",
    "bikes = pd.concat([bikes,season_dummies], \n",
    "                  axis = 1\n",
    "                 )\n",
    "\n",
    "# imprimimos 5 linhas quaisquer\n",
    "bikes.sample(n = 5, \n",
    "             random_state = 1\n",
    "            )"
   ]
  },
  {
   "cell_type": "markdown",
   "metadata": {
    "colab": {
     "autoexec": {
      "startup": false,
      "wait_interval": 0
     }
    },
    "colab_type": "code",
    "id": "TfjIjP912BHC"
   },
   "source": [
    "####  <span style = \"color:red\">Código Original.</span>\n",
    "<!---\n",
    "# Concatenar o DataFrame original e o dummy DataFrame (axis = 0 significa linhas, axis = 1 significa colunas)\n",
    "bikes = pd.concat([bikes,season_dummies], \n",
    "                  axis = 1\n",
    "                 )\n",
    "\n",
    "# imprimimos 5 linhas quaisquer\n",
    "bikes.sample(n = 5, \n",
    "             random_state = 1\n",
    "            )\n",
    "-->"
   ]
  },
  {
   "cell_type": "markdown",
   "metadata": {},
   "source": [
    "#### Vamos então incrementar nosso modelo, como esses novos atributos. Separar lista de atributos, criar os objetos que recebem esses atributos e o nosso target, instanciar um modelo de regressão linear, ajustar os pontos e unir a lista de atributos àquela de coeficientes de inclinação."
   ]
  },
  {
   "cell_type": "code",
   "execution_count": 243,
   "metadata": {},
   "outputs": [
    {
     "data": {
      "text/plain": [
       "[('temp', 11.186405863575784),\n",
       " ('season_2', -3.3905430997179598),\n",
       " ('season_3', -41.73686071317068),\n",
       " ('season_4', 64.41596146824214),\n",
       " ('humidity', -2.819481636259646)]"
      ]
     },
     "execution_count": 243,
     "metadata": {},
     "output_type": "execute_result"
    }
   ],
   "source": [
    "# Incluímos variáveis dummies\n",
    "feature_cols = ['temp', 'season_2', 'season_3', 'season_4', 'humidity']\n",
    "X = bikes[feature_cols]\n",
    "y = bikes.total\n",
    "linreg = LinearRegression()\n",
    "linreg.fit(X, y)\n",
    "\n",
    "list(zip(feature_cols, linreg.coef_))"
   ]
  },
  {
   "cell_type": "markdown",
   "metadata": {
    "colab": {
     "autoexec": {
      "startup": false,
      "wait_interval": 0
     }
    },
    "colab_type": "code",
    "id": "KMMgoBKc2BHF"
   },
   "source": [
    "####  <span style = \"color:red\">Código Original.</span>\n",
    "<!---\n",
    "# Incluímos variáveis dummies\n",
    "feature_cols = ['temp', 'season_2', 'season_3', 'season_4', 'humidity']\n",
    "X = bikes[feature_cols]\n",
    "y = bikes.total\n",
    "linreg = LinearRegression()\n",
    "linreg.fit(X, y)\n",
    "\n",
    "list(zip(feature_cols, linreg.coef_))\n",
    "-->"
   ]
  },
  {
   "cell_type": "markdown",
   "metadata": {
    "colab_type": "text",
    "id": "gqs1rbY12BHK"
   },
   "source": [
    "#### Como interpretamos os coeficientes de season? Eles são medidos conforme a linha de base `'spring'`:\n",
    "\n",
    "- Mantendo fixas todas as outras características, `summer` é ligado a um decréscimo de aluguéis de 3,39 bicicletas em comparação com spring.\n",
    "- Mantendo fixas todas as outras características, `fall` é ligado a um decréscimo de aluguéis de 41,7 bicicletas em comparação com spring.\n",
    "- Mantendo fixas todas as outras características, `winter` é ligado a um decréscimo de aluguéis de 64,4 bicicletas em comparação com spring.\n",
    "\n",
    "#### O que acontece se mudarmos a dummy definida como a linha de base? Os efeitos mudariam?\n",
    "\n",
    "- Não, simplesmente mudaria a nossa ** interpretação** dos coeficientes.\n",
    "\n",
    "#### Importante: A codificação por dummies é relevante para todos os modelos de aprendizagem automática, não apenas para os modelos de regressão linear."
   ]
  },
  {
   "cell_type": "markdown",
   "metadata": {},
   "source": [
    "#### Para terminar, vamos submeter as listas de atributos `['temp', 'season', 'humidity']` e  \n",
    "`['temp', 'season_2', 'season_3', 'season_4', 'humidity']` à função `train_test_rmse()` que definimos \n",
    "anteriormente, e comparar os resultados para os `RSME`. "
   ]
  },
  {
   "cell_type": "code",
   "execution_count": 244,
   "metadata": {},
   "outputs": [
    {
     "name": "stdout",
     "output_type": "stream",
     "text": [
      "155.59818936691417\n",
      "154.33394593635998\n"
     ]
    }
   ],
   "source": [
    "# comparar modelo com a feature season a modelo com variáveis dummy.\n",
    "print (train_test_rmse(['temp', 'season', 'humidity']))\n",
    "print (train_test_rmse(['temp', 'season_2', 'season_3', 'season_4', 'humidity']))"
   ]
  },
  {
   "cell_type": "markdown",
   "metadata": {
    "colab": {
     "autoexec": {
      "startup": false,
      "wait_interval": 0
     }
    },
    "colab_type": "code",
    "id": "AsdyOmH_2BHL"
   },
   "source": [
    "####  <span style = \"color:red\">Código Original.</span>\n",
    "<!---\n",
    "# comparar modelo com a feature season a modelo com variáveis dummy.\n",
    "print (train_test_rmse(['temp', 'season', 'humidity']))\n",
    "print (train_test_rmse(['temp', 'season_2', 'season_3', 'season_4', 'humidity']))\n",
    "-->"
   ]
  },
  {
   "cell_type": "markdown",
   "metadata": {},
   "source": [
    "#### O que você vê?"
   ]
  },
  {
   "cell_type": "markdown",
   "metadata": {},
   "source": [
    "####  <span style = \"color:blue\">Código Original.</span>\n",
    "<!---\n",
    "[``]()\n",
    "-->"
   ]
  },
  {
   "cell_type": "code",
   "execution_count": null,
   "metadata": {},
   "outputs": [],
   "source": []
  }
 ],
 "metadata": {
  "colab": {
   "default_view": {},
   "name": "PRACTICA_GUIADA_Intro_Regresion_Lineal_pt_br.ipynb",
   "provenance": [],
   "version": "0.3.2",
   "views": {}
  },
  "kernelspec": {
   "display_name": "Python 3",
   "language": "python",
   "name": "python3"
  },
  "language_info": {
   "codemirror_mode": {
    "name": "ipython",
    "version": 3
   },
   "file_extension": ".py",
   "mimetype": "text/x-python",
   "name": "python",
   "nbconvert_exporter": "python",
   "pygments_lexer": "ipython3",
   "version": "3.7.6"
  }
 },
 "nbformat": 4,
 "nbformat_minor": 1
}
