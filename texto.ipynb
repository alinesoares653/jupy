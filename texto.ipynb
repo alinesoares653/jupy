{
 "cells": [
  {
   "cell_type": "markdown",
   "metadata": {
    "colab_type": "text",
    "id": "cLnaaRn1sgkr"
   },
   "source": [
    "# PRÁTICA GUIADA - Feature Engineering."
   ]
  },
  {
   "cell_type": "markdown",
   "metadata": {
    "colab_type": "text",
    "id": "-670Y9hvsgli"
   },
   "source": [
    "## Trabalhando com texto."
   ]
  },
  {
   "cell_type": "markdown",
   "metadata": {
    "colab_type": "text",
    "id": "jpJD6vvQsglm"
   },
   "source": [
    "#### Outra necessidade comum na engenharia de recursos é converter texto em um conjunto de valores numéricos representativos. Por exemplo, a maioria das minerações automáticas de dados sociais é baseada em alguma forma de codificação de texto, como números. Um dos métodos mais simples é codificar os dados por meio da [contagem de palavras](https://scikit-learn.org/stable/modules/feature_extraction.html), que consiste em pegar cada fragmento de texto, contar as ocorrências de cada palavra e despejar os resultados em uma tabela."
   ]
  },
  {
   "cell_type": "markdown",
   "metadata": {},
   "source": [
    "#### Vamos criar uma lista de três frases."
   ]
  },
  {
   "cell_type": "code",
   "execution_count": 1,
   "metadata": {},
   "outputs": [],
   "source": [
    "textos = ['cientista de dados',\n",
    "          'dados estruturados',\n",
    "          'pensamento científico']"
   ]
  },
  {
   "cell_type": "markdown",
   "metadata": {
    "colab_type": "text",
    "id": "12ws3Fj_sglu"
   },
   "source": [
    "#### Para vectorizar este dataset basado en el conteo de palabras, podríamos construir una columna representando cada palabra: \"científico\", \"datos\", \"pensamiento\", etc.\n",
    "\n",
    "\n",
    "#### Para vetorizar esse conjunto de dados com base na contagem de palavras, podemos construir uma coluna representando cada palavra: \"cientista\", \"dados\", \"pensamento\" etc.\n",
    "\n",
    "#### Para isso, usamos [`sklearn.feature_extraction.text.CountVectorizer`](https://scikit-learn.org/stable/modules/generated/sklearn.feature_extraction.text.CountVectorizer.html) para trabalhar com a lista de `strings` e crie um objeto utilizando a função [`CountVectorizer()`](https://scikit-learn.org/stable/modules/generated/sklearn.feature_extraction.text.CountVectorizer.html) para converter uma coleção de documentos de texto em uma matriz de contagens de tokens. \n",
    "\n",
    "\n",
    "#### Use a função [`.fit_transform()`](https://scikit-learn.org/stable/modules/generated/sklearn.feature_extraction.DictVectorizer.html#sklearn.feature_extraction.DictVectorizer.fit_transform) para que o algoritmo aprenda os nomes de recursos da lista criada."
   ]
  },
  {
   "cell_type": "code",
   "execution_count": 2,
   "metadata": {},
   "outputs": [
    {
     "name": "stdout",
     "output_type": "stream",
     "text": [
      "  (0, 0)\t1\n",
      "  (0, 3)\t1\n",
      "  (0, 2)\t1\n",
      "  (1, 2)\t1\n",
      "  (1, 4)\t1\n",
      "  (2, 5)\t1\n",
      "  (2, 1)\t1\n"
     ]
    }
   ],
   "source": [
    "from sklearn.feature_extraction.text import CountVectorizer\n",
    "vec = CountVectorizer()\n",
    "X = vec.fit_transform(textos)\n",
    "print(X)"
   ]
  },
  {
   "cell_type": "markdown",
   "metadata": {
    "colab_type": "text",
    "id": "oDnl9SCysgl8"
   },
   "source": [
    "#### Podemos visualizar o `output` do `CountVectorizer` utilizando o método [`.todense()`](https://docs.scipy.org/doc/scipy/reference/generated/scipy.sparse.csr_matrix.todense.html), que converte a matrix dispersa em uma matriz densa."
   ]
  },
  {
   "cell_type": "code",
   "execution_count": 3,
   "metadata": {
    "colab": {
     "base_uri": "https://localhost:8080/",
     "height": 68
    },
    "colab_type": "code",
    "executionInfo": {
     "elapsed": 2071,
     "status": "ok",
     "timestamp": 1568853377518,
     "user": {
      "displayName": "Julián Ansaldo",
      "photoUrl": "https://lh3.googleusercontent.com/a-/AAuE7mCQI0iy6sTR9TfuLMfXZ90XCqxfdAQtMEcBkjfs1w=s64",
      "userId": "10643095115217147090"
     },
     "user_tz": 180
    },
    "id": "wwdJIP6nsgl_",
    "outputId": "d3a380b6-f043-4ac1-e24f-fb684c50f1cb"
   },
   "outputs": [
    {
     "data": {
      "text/plain": [
       "matrix([[1, 0, 1, 1, 0, 0],\n",
       "        [0, 0, 1, 0, 1, 0],\n",
       "        [0, 1, 0, 0, 0, 1]])"
      ]
     },
     "execution_count": 3,
     "metadata": {},
     "output_type": "execute_result"
    }
   ],
   "source": [
    "X.todense()"
   ]
  },
  {
   "cell_type": "markdown",
   "metadata": {
    "colab_type": "text",
    "id": "Ae3xzMeBsgmL"
   },
   "source": [
    "#### Podemos despejar esse resultado em um `DataFrame`, para obter os títulos das colunas, vamos usar o método [`.get_feature_names()`](https://scikit-learn.org/stable/modules/generated/sklearn.feature_extraction.text.CountVectorizer.html#sklearn.feature_extraction.text.CountVectorizer.get_feature_names) para o parâmetro `columns`. Importe o `pandas` e use a função [`pd.DataFrame()`](https://pandas.pydata.org/pandas-docs/stable/reference/api/pandas.DataFrame.html) para criar um `dataframe` a partir da matriz condensada na célula anterior."
   ]
  },
  {
   "cell_type": "code",
   "execution_count": 4,
   "metadata": {},
   "outputs": [
    {
     "data": {
      "text/html": [
       "<div>\n",
       "<style scoped>\n",
       "    .dataframe tbody tr th:only-of-type {\n",
       "        vertical-align: middle;\n",
       "    }\n",
       "\n",
       "    .dataframe tbody tr th {\n",
       "        vertical-align: top;\n",
       "    }\n",
       "\n",
       "    .dataframe thead th {\n",
       "        text-align: right;\n",
       "    }\n",
       "</style>\n",
       "<table border=\"1\" class=\"dataframe\">\n",
       "  <thead>\n",
       "    <tr style=\"text-align: right;\">\n",
       "      <th></th>\n",
       "      <th>cientista</th>\n",
       "      <th>científico</th>\n",
       "      <th>dados</th>\n",
       "      <th>de</th>\n",
       "      <th>estruturados</th>\n",
       "      <th>pensamento</th>\n",
       "    </tr>\n",
       "  </thead>\n",
       "  <tbody>\n",
       "    <tr>\n",
       "      <th>0</th>\n",
       "      <td>1</td>\n",
       "      <td>0</td>\n",
       "      <td>1</td>\n",
       "      <td>1</td>\n",
       "      <td>0</td>\n",
       "      <td>0</td>\n",
       "    </tr>\n",
       "    <tr>\n",
       "      <th>1</th>\n",
       "      <td>0</td>\n",
       "      <td>0</td>\n",
       "      <td>1</td>\n",
       "      <td>0</td>\n",
       "      <td>1</td>\n",
       "      <td>0</td>\n",
       "    </tr>\n",
       "    <tr>\n",
       "      <th>2</th>\n",
       "      <td>0</td>\n",
       "      <td>1</td>\n",
       "      <td>0</td>\n",
       "      <td>0</td>\n",
       "      <td>0</td>\n",
       "      <td>1</td>\n",
       "    </tr>\n",
       "  </tbody>\n",
       "</table>\n",
       "</div>"
      ],
      "text/plain": [
       "   cientista  científico  dados  de  estruturados  pensamento\n",
       "0          1           0      1   1             0           0\n",
       "1          0           0      1   0             1           0\n",
       "2          0           1      0   0             0           1"
      ]
     },
     "execution_count": 4,
     "metadata": {},
     "output_type": "execute_result"
    }
   ],
   "source": [
    "import pandas as pd\n",
    "pd.DataFrame(data = X.todense(), columns = vec.get_feature_names())"
   ]
  },
  {
   "cell_type": "markdown",
   "metadata": {
    "colab_type": "text",
    "id": "VyCd1urdsgmV"
   },
   "source": [
    "#### [Term frequency-inverse document frequency (TF–IDF)](https://towardsdatascience.com/tf-idf-for-document-ranking-from-scratch-in-python-on-real-world-dataset-796d339a4089#:~:text=TF%2DIDF%20stands%20for%20%E2%80%9CTerm,Information%20Retrieval%20and%20Text%20Mining.) é uma técnica alternativa que calcula a frequência relativa de cada palavra por documento, ponderada pelo inverso de sua frequência relativa em todo o `corpus` (coleção de documentos). Este método funciona melhor com certos algoritmos de classificação.\n",
    "\n",
    "#### Para isso vamos utilizar a classe de funções [`sklearn.feature_extraction.text.TfidfVectorizer`](https://scikit-learn.org/stable/modules/generated/sklearn.feature_extraction.text.TfidfVectorizer.html):\n",
    "\n",
    "#### Atribua a função [`TfidfVectorizer()`](https://scikit-learn.org/stable/modules/generated/sklearn.feature_extraction.text.TfidfVectorizer.html) a um objeto, para converter a coleção de documentos brutos criada na célular anterior em uma matriz de recursos `TF-IDF`.\n",
    "\n",
    "#### Utilize novamente o método [`.todense()`](https://docs.scipy.org/doc/scipy/reference/generated/scipy.sparse.csr_matrix.todense.html), para converter a matrix dispersa em uma matriz densa e transforme o resultado em um `dataframe` com a função [`pd.DataFrame()`](https://pandas.pydata.org/pandas-docs/stable/reference/api/pandas.DataFrame.html).\n"
   ]
  },
  {
   "cell_type": "code",
   "execution_count": 5,
   "metadata": {},
   "outputs": [
    {
     "data": {
      "text/html": [
       "<div>\n",
       "<style scoped>\n",
       "    .dataframe tbody tr th:only-of-type {\n",
       "        vertical-align: middle;\n",
       "    }\n",
       "\n",
       "    .dataframe tbody tr th {\n",
       "        vertical-align: top;\n",
       "    }\n",
       "\n",
       "    .dataframe thead th {\n",
       "        text-align: right;\n",
       "    }\n",
       "</style>\n",
       "<table border=\"1\" class=\"dataframe\">\n",
       "  <thead>\n",
       "    <tr style=\"text-align: right;\">\n",
       "      <th></th>\n",
       "      <th>cientista</th>\n",
       "      <th>científico</th>\n",
       "      <th>dados</th>\n",
       "      <th>de</th>\n",
       "      <th>estruturados</th>\n",
       "      <th>pensamento</th>\n",
       "    </tr>\n",
       "  </thead>\n",
       "  <tbody>\n",
       "    <tr>\n",
       "      <th>0</th>\n",
       "      <td>0.622766</td>\n",
       "      <td>0.000000</td>\n",
       "      <td>0.473630</td>\n",
       "      <td>0.622766</td>\n",
       "      <td>0.000000</td>\n",
       "      <td>0.000000</td>\n",
       "    </tr>\n",
       "    <tr>\n",
       "      <th>1</th>\n",
       "      <td>0.000000</td>\n",
       "      <td>0.000000</td>\n",
       "      <td>0.605349</td>\n",
       "      <td>0.000000</td>\n",
       "      <td>0.795961</td>\n",
       "      <td>0.000000</td>\n",
       "    </tr>\n",
       "    <tr>\n",
       "      <th>2</th>\n",
       "      <td>0.000000</td>\n",
       "      <td>0.707107</td>\n",
       "      <td>0.000000</td>\n",
       "      <td>0.000000</td>\n",
       "      <td>0.000000</td>\n",
       "      <td>0.707107</td>\n",
       "    </tr>\n",
       "  </tbody>\n",
       "</table>\n",
       "</div>"
      ],
      "text/plain": [
       "   cientista  científico     dados        de  estruturados  pensamento\n",
       "0   0.622766    0.000000  0.473630  0.622766      0.000000    0.000000\n",
       "1   0.000000    0.000000  0.605349  0.000000      0.795961    0.000000\n",
       "2   0.000000    0.707107  0.000000  0.000000      0.000000    0.707107"
      ]
     },
     "execution_count": 5,
     "metadata": {},
     "output_type": "execute_result"
    }
   ],
   "source": [
    "from sklearn.feature_extraction.text import TfidfVectorizer\n",
    "vec = TfidfVectorizer()\n",
    "X = vec.fit_transform(textos)\n",
    "pd.DataFrame(data = X.todense(), columns = vec.get_feature_names())"
   ]
  },
  {
   "cell_type": "markdown",
   "metadata": {
    "colab_type": "text",
    "id": "Zhx8CaTasgmd"
   },
   "source": [
    "##### Vejamos como se calculam os valores de `tfidf`:\n",
    "\n",
    "\n",
    "#### Para o cálculo da freqüência com que um termo $t_{i}$  aparece em um documento $d_{i}$: \n",
    "\n",
    "$ tf_{ij} = \\frac{n_{ij}}{\\sum_{k} n_{ik}} = \\frac{n_{ij}}{|d_{i}|}$\n",
    "\n",
    "- Em que $n_{ij}$ é o número de vezes que o termo $t_{i}$ aparece no documento $d_{i}$. \n",
    "\n",
    "#### Para o cálculo da freqüência inversa com que um termo $t_{i}$  aparece nos $N$ documentos:\n",
    "\n",
    "$ idf_{j} = log\\bigg(\\frac{N}{n_{j}}\\bigg)$\n",
    "\n",
    "\n",
    "- Em que $N$ é o número total de documentos e $n_{j}$ é o número de documentos que contém o termo $t_{j}$. \n",
    "\n",
    "#### Um termo $t_{j}$ que aparece em poucos documentos é melhor discriminado que outro que aparece muitas vezes.\n",
    "\n",
    "#### Cada documento $j$ é representado como um vetor de características: \n",
    "\n",
    "$d_{j}$:$d_{j} = (d_{j1}, … , d_{jn})$ \n",
    "\n",
    "#### Contabilizando todos os termos $t_{i}$ ficamos com uma matriz dada pelo produto cartesiano $tf_{ij}$ e $idf_{j}$:\n",
    "\n",
    "$d_{ij} = tfidf_{ij} = tf_{ij}~x~idf_{j}$\n",
    "\n",
    "###### Como exemplo, calculemos os valores da primeira linha:"
   ]
  },
  {
   "cell_type": "markdown",
   "metadata": {},
   "source": [
    "####  <span style = \"color:red\">Código Original.</span>\n",
    "<!---\n",
    "textos = ['cientista de dados',\n",
    "          'dados estruturados',\n",
    "          'pensamento científico']\n",
    "-->"
   ]
  },
  {
   "cell_type": "markdown",
   "metadata": {},
   "source": [
    "#### Se o parâmetro `smooth_idf = True` (padrão), uma constante de valor `1` é agregada ao numerador e ao denominador de $idf_ {i}$ para evitar divisões por zero: $ idf_{j} = log\\bigg(\\frac{N}{1 + n_{j}} + 1\\bigg)$. Isso cria um limite inferior $log(2)$ para as contagens. Outras variações são ainda possívels."
   ]
  },
  {
   "cell_type": "markdown",
   "metadata": {},
   "source": [
    "#### Importe a classe [`sklearn.feature_extraction.text.TfidfVectorizer`](https://scikit-learn.org/stable/modules/generated/sklearn.feature_extraction.text.TfidfVectorizer.html) para converta uma coleção de documentos brutos em uma matriz de recursos `TF-IDF`.\n",
    "\n",
    "#### Defina três objetos que recebem os documentos criados na célula anterior e utilize a função  [`.TfidfVectorizer()`](https://scikit-learn.org/stable/modules/generated/sklearn.feature_extraction.text.TfidfVectorizer.html) para realizar o cálculo dos valroes `TF-IDF` e observe os parâmetros `norm = 'l2'`, `use_idf = True`, `smooth_idf = True`, `sublinear_tf = False`."
   ]
  },
  {
   "cell_type": "code",
   "execution_count": 6,
   "metadata": {},
   "outputs": [],
   "source": [
    "from sklearn.feature_extraction.text import TfidfVectorizer\n",
    "\n",
    "docA = textos[0]\n",
    "docB = textos[1]\n",
    "docC = textos[2]\n",
    "\n",
    "tfidf = TfidfVectorizer(norm = 'l2', use_idf = True, smooth_idf = True, sublinear_tf = False)"
   ]
  },
  {
   "cell_type": "markdown",
   "metadata": {},
   "source": [
    "#### A função [`.fit_transform()`](https://kite.com/python/docs/sklearn.isotonic.IsotonicRegression.fit_transform) aprende o vocabulário e `idf` e retorna uma matriz do tipo `document-term`. Vamos usá-la com os três documentos criados na célula anterior e  então aplicar o método [`.todense()`](https://docs.scipy.org/doc/scipy/reference/generated/scipy.sparse.csr_matrix.todense.html), para converter a matrix dispersa, resultado de `.fit_transform()` em uma matriz densa."
   ]
  },
  {
   "cell_type": "code",
   "execution_count": 7,
   "metadata": {},
   "outputs": [
    {
     "name": "stdout",
     "output_type": "stream",
     "text": [
      "[[0.62276601 0.         0.4736296  0.62276601 0.         0.        ]\n",
      " [0.         0.         0.60534851 0.         0.79596054 0.        ]\n",
      " [0.         0.70710678 0.         0.         0.         0.70710678]]\n"
     ]
    }
   ],
   "source": [
    "response = tfidf.fit_transform([docA, docB, docC])\n",
    "print(response.todense())"
   ]
  },
  {
   "cell_type": "markdown",
   "metadata": {},
   "source": [
    "#### A função [`get_feature_names`](https://scikit-learn.org/stable/modules/generated/sklearn.feature_extraction.text.TfidfVectorizer.html#sklearn.feature_extraction.text.TfidfVectorizer.get_feature_names) faz um mapeamento de matriz de índices inteiros do recurso para o nome do recurso."
   ]
  },
  {
   "cell_type": "code",
   "execution_count": 8,
   "metadata": {},
   "outputs": [],
   "source": [
    "feature_names = tfidf.get_feature_names()"
   ]
  },
  {
   "cell_type": "markdown",
   "metadata": {},
   "source": [
    "#### Para termos apenas aqueles índices cujos elementos são diferentes de zero, usamos a função [`.nonzero()`](https://numpy.org/doc/1.18/reference/generated/numpy.nonzero.html). Crie um `loop for` para "
   ]
  },
  {
   "cell_type": "raw",
   "metadata": {},
   "source": [
    "for col in response.nonzero()[1]:\n",
    "    print (feature_names[col], ' - ', response[0, col])"
   ]
  },
  {
   "cell_type": "code",
   "execution_count": null,
   "metadata": {},
   "outputs": [],
   "source": []
  },
  {
   "cell_type": "code",
   "execution_count": 9,
   "metadata": {},
   "outputs": [
    {
     "data": {
      "text/html": [
       "<div>\n",
       "<style scoped>\n",
       "    .dataframe tbody tr th:only-of-type {\n",
       "        vertical-align: middle;\n",
       "    }\n",
       "\n",
       "    .dataframe tbody tr th {\n",
       "        vertical-align: top;\n",
       "    }\n",
       "\n",
       "    .dataframe thead th {\n",
       "        text-align: right;\n",
       "    }\n",
       "</style>\n",
       "<table border=\"1\" class=\"dataframe\">\n",
       "  <thead>\n",
       "    <tr style=\"text-align: right;\">\n",
       "      <th></th>\n",
       "      <th>PROCEDIMENTO</th>\n",
       "      <th>QUANTIDADE</th>\n",
       "      <th>VALOR_UNITARIO</th>\n",
       "      <th>VALOR_PAGO_PROCEDIMENTO</th>\n",
       "      <th>DATA_ENTRADA</th>\n",
       "      <th>PORTE_PROCEDIMENTO</th>\n",
       "      <th>VIA_ACESSO</th>\n",
       "    </tr>\n",
       "  </thead>\n",
       "  <tbody>\n",
       "    <tr>\n",
       "      <th>0</th>\n",
       "      <td>Abdome inferior masculino (bexiga, próstata e ...</td>\n",
       "      <td>1</td>\n",
       "      <td>88.36</td>\n",
       "      <td>88.36</td>\n",
       "      <td>05/06/2019</td>\n",
       "      <td>02B</td>\n",
       "      <td>P</td>\n",
       "    </tr>\n",
       "    <tr>\n",
       "      <th>1</th>\n",
       "      <td>Doppler Colorido De Órgão Ou Estrutura Isolada</td>\n",
       "      <td>1</td>\n",
       "      <td>173.62</td>\n",
       "      <td>163.17</td>\n",
       "      <td>28/10/2019</td>\n",
       "      <td>03B</td>\n",
       "      <td>P</td>\n",
       "    </tr>\n",
       "    <tr>\n",
       "      <th>2</th>\n",
       "      <td>US - APARELHO URINARIO RINS URETERES E BEXIGA</td>\n",
       "      <td>1</td>\n",
       "      <td>85.07</td>\n",
       "      <td>85.07</td>\n",
       "      <td>11/02/2019</td>\n",
       "      <td>NaN</td>\n",
       "      <td>P</td>\n",
       "    </tr>\n",
       "    <tr>\n",
       "      <th>3</th>\n",
       "      <td>Doppler Colorido Venoso De Membro Inferior - U...</td>\n",
       "      <td>1</td>\n",
       "      <td>298.68</td>\n",
       "      <td>298.68</td>\n",
       "      <td>14/08/2019</td>\n",
       "      <td>05A</td>\n",
       "      <td>P</td>\n",
       "    </tr>\n",
       "    <tr>\n",
       "      <th>4</th>\n",
       "      <td>ECODOPPLERCARDIOGRAMA TRANSTORACICO</td>\n",
       "      <td>1</td>\n",
       "      <td>226.35</td>\n",
       "      <td>226.35</td>\n",
       "      <td>18/04/2019</td>\n",
       "      <td>02A</td>\n",
       "      <td>P</td>\n",
       "    </tr>\n",
       "  </tbody>\n",
       "</table>\n",
       "</div>"
      ],
      "text/plain": [
       "                                        PROCEDIMENTO  QUANTIDADE  \\\n",
       "0  Abdome inferior masculino (bexiga, próstata e ...           1   \n",
       "1     Doppler Colorido De Órgão Ou Estrutura Isolada           1   \n",
       "2      US - APARELHO URINARIO RINS URETERES E BEXIGA           1   \n",
       "3  Doppler Colorido Venoso De Membro Inferior - U...           1   \n",
       "4                ECODOPPLERCARDIOGRAMA TRANSTORACICO           1   \n",
       "\n",
       "   VALOR_UNITARIO  VALOR_PAGO_PROCEDIMENTO DATA_ENTRADA PORTE_PROCEDIMENTO  \\\n",
       "0           88.36                    88.36   05/06/2019                02B   \n",
       "1          173.62                   163.17   28/10/2019                03B   \n",
       "2           85.07                    85.07   11/02/2019                NaN   \n",
       "3          298.68                   298.68   14/08/2019                05A   \n",
       "4          226.35                   226.35   18/04/2019                02A   \n",
       "\n",
       "  VIA_ACESSO  \n",
       "0          P  \n",
       "1          P  \n",
       "2          P  \n",
       "3          P  \n",
       "4          P  "
      ]
     },
     "execution_count": 9,
     "metadata": {},
     "output_type": "execute_result"
    }
   ],
   "source": [
    "import pandas as pd\n",
    "df = pd.read_csv('features_texto.csv')\n",
    "df.head()"
   ]
  },
  {
   "cell_type": "code",
   "execution_count": 10,
   "metadata": {},
   "outputs": [
    {
     "data": {
      "text/html": [
       "<div>\n",
       "<style scoped>\n",
       "    .dataframe tbody tr th:only-of-type {\n",
       "        vertical-align: middle;\n",
       "    }\n",
       "\n",
       "    .dataframe tbody tr th {\n",
       "        vertical-align: top;\n",
       "    }\n",
       "\n",
       "    .dataframe thead th {\n",
       "        text-align: right;\n",
       "    }\n",
       "</style>\n",
       "<table border=\"1\" class=\"dataframe\">\n",
       "  <thead>\n",
       "    <tr style=\"text-align: right;\">\n",
       "      <th></th>\n",
       "      <th>PROCEDIMENTO</th>\n",
       "      <th>QUANTIDADE</th>\n",
       "      <th>VALOR_UNITARIO</th>\n",
       "      <th>VALOR_PAGO_PROCEDIMENTO</th>\n",
       "      <th>DATA_ENTRADA</th>\n",
       "      <th>PORTE_PROCEDIMENTO</th>\n",
       "      <th>VIA_ACESSO</th>\n",
       "    </tr>\n",
       "  </thead>\n",
       "  <tbody>\n",
       "    <tr>\n",
       "      <th>0</th>\n",
       "      <td>abdome inferior masculino (bexiga, próstata e ...</td>\n",
       "      <td>1</td>\n",
       "      <td>88.36</td>\n",
       "      <td>88.36</td>\n",
       "      <td>05/06/2019</td>\n",
       "      <td>02B</td>\n",
       "      <td>P</td>\n",
       "    </tr>\n",
       "    <tr>\n",
       "      <th>1</th>\n",
       "      <td>doppler colorido de órgão ou estrutura isolada</td>\n",
       "      <td>1</td>\n",
       "      <td>173.62</td>\n",
       "      <td>163.17</td>\n",
       "      <td>28/10/2019</td>\n",
       "      <td>03B</td>\n",
       "      <td>P</td>\n",
       "    </tr>\n",
       "    <tr>\n",
       "      <th>2</th>\n",
       "      <td>us - aparelho urinario rins ureteres e bexiga</td>\n",
       "      <td>1</td>\n",
       "      <td>85.07</td>\n",
       "      <td>85.07</td>\n",
       "      <td>11/02/2019</td>\n",
       "      <td>NaN</td>\n",
       "      <td>P</td>\n",
       "    </tr>\n",
       "    <tr>\n",
       "      <th>3</th>\n",
       "      <td>doppler colorido venoso de membro inferior - u...</td>\n",
       "      <td>1</td>\n",
       "      <td>298.68</td>\n",
       "      <td>298.68</td>\n",
       "      <td>14/08/2019</td>\n",
       "      <td>05A</td>\n",
       "      <td>P</td>\n",
       "    </tr>\n",
       "    <tr>\n",
       "      <th>4</th>\n",
       "      <td>ecodopplercardiograma transtoracico</td>\n",
       "      <td>1</td>\n",
       "      <td>226.35</td>\n",
       "      <td>226.35</td>\n",
       "      <td>18/04/2019</td>\n",
       "      <td>02A</td>\n",
       "      <td>P</td>\n",
       "    </tr>\n",
       "  </tbody>\n",
       "</table>\n",
       "</div>"
      ],
      "text/plain": [
       "                                        PROCEDIMENTO  QUANTIDADE  \\\n",
       "0  abdome inferior masculino (bexiga, próstata e ...           1   \n",
       "1     doppler colorido de órgão ou estrutura isolada           1   \n",
       "2      us - aparelho urinario rins ureteres e bexiga           1   \n",
       "3  doppler colorido venoso de membro inferior - u...           1   \n",
       "4                ecodopplercardiograma transtoracico           1   \n",
       "\n",
       "   VALOR_UNITARIO  VALOR_PAGO_PROCEDIMENTO DATA_ENTRADA PORTE_PROCEDIMENTO  \\\n",
       "0           88.36                    88.36   05/06/2019                02B   \n",
       "1          173.62                   163.17   28/10/2019                03B   \n",
       "2           85.07                    85.07   11/02/2019                NaN   \n",
       "3          298.68                   298.68   14/08/2019                05A   \n",
       "4          226.35                   226.35   18/04/2019                02A   \n",
       "\n",
       "  VIA_ACESSO  \n",
       "0          P  \n",
       "1          P  \n",
       "2          P  \n",
       "3          P  \n",
       "4          P  "
      ]
     },
     "execution_count": 10,
     "metadata": {},
     "output_type": "execute_result"
    }
   ],
   "source": [
    "df.PROCEDIMENTO = df.PROCEDIMENTO.str.lower()\n",
    "df.head()"
   ]
  },
  {
   "cell_type": "code",
   "execution_count": null,
   "metadata": {},
   "outputs": [],
   "source": []
  },
  {
   "cell_type": "code",
   "execution_count": null,
   "metadata": {},
   "outputs": [],
   "source": []
  }
 ],
 "metadata": {
  "colab": {
   "name": "1.PRACTICA_GUIADA - Feature Engineering.ipynb",
   "provenance": []
  },
  "kernelspec": {
   "display_name": "Python 3",
   "language": "python",
   "name": "python3"
  },
  "language_info": {
   "codemirror_mode": {
    "name": "ipython",
    "version": 3
   },
   "file_extension": ".py",
   "mimetype": "text/x-python",
   "name": "python",
   "nbconvert_exporter": "python",
   "pygments_lexer": "ipython3",
   "version": "3.7.6"
  }
 },
 "nbformat": 4,
 "nbformat_minor": 1
}
